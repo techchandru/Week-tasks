{
  "nbformat": 4,
  "nbformat_minor": 0,
  "metadata": {
    "colab": {
      "provenance": [],
      "authorship_tag": "ABX9TyN2lQS0CNlOY/zMc5gGJ0SC",
      "include_colab_link": true
    },
    "kernelspec": {
      "name": "python3",
      "display_name": "Python 3"
    },
    "language_info": {
      "name": "python"
    }
  },
  "cells": [
    {
      "cell_type": "markdown",
      "metadata": {
        "id": "view-in-github",
        "colab_type": "text"
      },
      "source": [
        "<a href=\"https://colab.research.google.com/github/techchandru/Week-tasks/blob/Week-tasks/Week_1_assignment.ipynb\" target=\"_parent\"><img src=\"https://colab.research.google.com/assets/colab-badge.svg\" alt=\"Open In Colab\"/></a>"
      ]
    },
    {
      "cell_type": "code",
      "execution_count": null,
      "metadata": {
        "id": "7qNQz9hIe-8k",
        "colab": {
          "base_uri": "https://localhost:8080/"
        },
        "outputId": "b31f09b6-ebc2-4948-cad3-89a1104c9386"
      },
      "outputs": [
        {
          "output_type": "stream",
          "name": "stdout",
          "text": [
            "Chandru <class 'str'> 22 <class 'int'> 5.6 <class 'float'>\n"
          ]
        }
      ],
      "source": [
        "#Types of Variables\n",
        "#Question: Write a Python program that defines three types of variables:\n",
        "#1. A string variable to store your name.\n",
        "#2. An integer variable to store your age.\n",
        "#3. A float variable to store your height in meters.\n",
        "#Print these variables along with their types using the type() function\n",
        "\n",
        "\n",
        "name = \"Chandru\"\n",
        "age = 22\n",
        "height = 5.6\n",
        "print(name,type(name),age,type(age),height,type(height))"
      ]
    },
    {
      "cell_type": "code",
      "source": [
        "#Lists Question: Create a list of five fruits ([\"apple\", \"banana\", \"cherry\", \"date\", \"elderberry\"]):\n",
        "#Print the first and last fruit from the list.\n",
        "#Add a new fruit to the end of the list.\n",
        "#Remove the second fruit from the list.\n",
        "#Sort the list in alphabetical order and print it\n",
        "\n",
        "fruitsL = [\"apple\",\"banana\",\"cherry\",\"date\",\"elderberry\"]\n",
        "print(fruitsL[0])\n",
        "print(fruitsL[4])\n",
        "fruitsL.append(\"grape\")\n",
        "fruitsL.pop(1)\n",
        "fruitsL.sort()\n",
        "print(fruitsL)"
      ],
      "metadata": {
        "colab": {
          "base_uri": "https://localhost:8080/"
        },
        "id": "IVH7MbPWhIFc",
        "outputId": "c94426a2-b625-4709-e58a-b3cd2a865679"
      },
      "execution_count": null,
      "outputs": [
        {
          "output_type": "stream",
          "name": "stdout",
          "text": [
            "apple\n",
            "elderberry\n",
            "['apple', 'cherry', 'date', 'elderberry', 'grape']\n"
          ]
        }
      ]
    },
    {
      "cell_type": "code",
      "source": [
        "#Tuples Question: Create a tuple to store the names of three programming languages (\"Python\", \"Java\", \"C++\"):\n",
        "#Access the second language in the tuple.\n",
        "#Try to replace the second language with \"JavaScript\". What happens?\n",
        "#Convert the tuple to a list, make the modification, and convert it back to a tuple.\n",
        "\n",
        "languages = (\"Python\", \"Java\", \"C++\")\n",
        "print(languages[1])\n",
        "\n",
        "# languages[1] = \"JavaScript\"  # This will raise a TypeError\n",
        "\n",
        "languages_list = list(languages)\n",
        "languages_list[1] = \"JavaScript\"\n",
        "languages = tuple(languages_list)\n",
        "\n",
        "print(languages)"
      ],
      "metadata": {
        "colab": {
          "base_uri": "https://localhost:8080/"
        },
        "id": "ZA59_NaxhIBl",
        "outputId": "ea0b1c42-fdaf-41bb-c014-350a17cc70d7"
      },
      "execution_count": null,
      "outputs": [
        {
          "output_type": "stream",
          "name": "stdout",
          "text": [
            "Java\n",
            "('Python', 'JavaScript', 'C++')\n"
          ]
        }
      ]
    },
    {
      "cell_type": "code",
      "source": [
        "#Data Dictionary - Basics Question: Create a dictionary with the following student details: • name: \"John\" • age: 18 • grade: \"A\"\n",
        "#Access and print the value of grade.\n",
        "#Add a new key-value pair for hobby with the value \"reading\".\n",
        "#Delete the age key from the dictionary.\n",
        "\n",
        "student = {\"name\": \"John\", \"age\": 18, \"grade\": \"A\"}\n",
        "\n",
        "print(student[\"grade\"])\n",
        "\n",
        "student[\"hobby\"] = \"reading\"\n",
        "print(student)\n",
        "\n",
        "del student[\"age\"]\n",
        "\n",
        "print(student)"
      ],
      "metadata": {
        "colab": {
          "base_uri": "https://localhost:8080/"
        },
        "id": "V-pE_FHQhH-s",
        "outputId": "9df2b9a4-6081-4257-8f05-a22eae20e832"
      },
      "execution_count": null,
      "outputs": [
        {
          "output_type": "stream",
          "name": "stdout",
          "text": [
            "A\n",
            "{'name': 'John', 'age': 18, 'grade': 'A', 'hobby': 'reading'}\n",
            "{'name': 'John', 'grade': 'A', 'hobby': 'reading'}\n"
          ]
        }
      ]
    },
    {
      "cell_type": "code",
      "source": [
        "#Data Dictionary - Operations Question: You are given the following dictionary: marks = {\"Math\": 85, \"Science\": 90, \"English\": 78}\n",
        "#1.Find the average marks across all subjects.\n",
        "#Update the marks for Math to 88.\n",
        "#Check if the key \"History\" exists in the dictionary.\n",
        "\n",
        "marks = {\"Math\": 85, \"Science\": 90, \"English\": 78}\n",
        "\n",
        "average_marks = sum(marks.values()) / len(marks)\n",
        "print(\"Average Marks:\", average_marks)\n",
        "\n",
        "marks[\"Math\"] = 88\n",
        "\n",
        "history_exists = \"History\" in marks\n",
        "print(\"Is 'History' present?\", history_exists)\n",
        "\n",
        "print(marks)"
      ],
      "metadata": {
        "colab": {
          "base_uri": "https://localhost:8080/"
        },
        "id": "5g1BzIh6hH7v",
        "outputId": "61313c83-5fed-432c-8b05-2462be292855"
      },
      "execution_count": null,
      "outputs": [
        {
          "output_type": "stream",
          "name": "stdout",
          "text": [
            "Average Marks: 84.33333333333333\n",
            "Is 'History' present? False\n",
            "{'Math': 88, 'Science': 90, 'English': 78}\n"
          ]
        }
      ]
    },
    {
      "cell_type": "code",
      "source": [
        "#Functions - Basics Question: Write a Python function named square that takes an integer as input and returns its square.\n",
        "#Call the function with the value 7 and print the result\n",
        "\n",
        "def square(num):\n",
        "    return num * num\n",
        "\n",
        "print(square(7))"
      ],
      "metadata": {
        "colab": {
          "base_uri": "https://localhost:8080/"
        },
        "id": "9LMjYME7hH4z",
        "outputId": "500746a9-c73e-40e9-e10f-74469455c2cb"
      },
      "execution_count": null,
      "outputs": [
        {
          "output_type": "stream",
          "name": "stdout",
          "text": [
            "49\n"
          ]
        }
      ]
    },
    {
      "cell_type": "code",
      "source": [
        "#Functions - Default Arguments Question: Write a Python function named greet that takes two parameters: • name (a string) • message (a string with a default value of \"Welcome!\") Call the function twice:\n",
        "#Once by providing both name and message.\n",
        "#Once by providing only name.\n",
        "\n",
        "def greet(name, message=\"Welcome!\"):\n",
        "    print(f\"{message}, {name}\")\n",
        "\n",
        "greet(\"chandru\", \"Hello\")\n",
        "\n",
        "greet(\"chandru\")\n"
      ],
      "metadata": {
        "colab": {
          "base_uri": "https://localhost:8080/"
        },
        "id": "k5s8FIYuhH16",
        "outputId": "efa8495c-cc74-40d4-8f95-ec7b92936be0"
      },
      "execution_count": null,
      "outputs": [
        {
          "output_type": "stream",
          "name": "stdout",
          "text": [
            "Hello, chandru\n",
            "Welcome!, chandru\n"
          ]
        }
      ]
    },
    {
      "cell_type": "code",
      "source": [
        "#Functions - Positional and Keyword Arguments Question: Write a Python function named student_info that accepts the following parameters: • name (string) • age (integer) • grade (string, default value is \"A\") Call the function with:\n",
        "#Positional arguments only.\n",
        "#Keyword arguments only. Print the result in each case.\n",
        "\n",
        "def student_info(name, age, grade=\"A\"):\n",
        "    print(f\"Name: {name}, Age: {age}, Grade: {grade}\")\n",
        "\n",
        "\n",
        "student_info(\"chandru\", 22, \"B\")\n",
        "\n",
        "student_info(name=\"chandru\", age=22, grade=\"A+\")"
      ],
      "metadata": {
        "colab": {
          "base_uri": "https://localhost:8080/"
        },
        "id": "KwnMNnDxhHzB",
        "outputId": "a9b7f916-9304-414d-d2cf-511ee6d6b106"
      },
      "execution_count": null,
      "outputs": [
        {
          "output_type": "stream",
          "name": "stdout",
          "text": [
            "Name: chandru, Age: 22, Grade: B\n",
            "Name: chandru, Age: 22, Grade: A+\n"
          ]
        }
      ]
    },
    {
      "cell_type": "code",
      "source": [
        "#Lists and Functions Question: Write a Python program with the following requirements:\n",
        " #a) Create a list of numbers: [10, 20, 30, 40, 50].\n",
        " #) Define a function named double_values that takes a list as input and returns a new list with each value doubled.\n",
        " #c) Pass the list to the function and print the returned list.\n",
        "\n",
        " # a) Create a list of numbers\n",
        "numbers = [10, 20, 30, 40, 50]\n",
        "\n",
        "# b) Define a function to double the values\n",
        "def double_values(lst):\n",
        "    return [x * 2 for x in lst]\n",
        "\n",
        "# c) Pass the list to the function and print the result\n",
        "doubled_numbers = double_values(numbers)\n",
        "print(doubled_numbers)"
      ],
      "metadata": {
        "colab": {
          "base_uri": "https://localhost:8080/"
        },
        "id": "98CuqE5NhHwF",
        "outputId": "a6a2e9b0-4d83-4fc4-a056-be82de38e8f0"
      },
      "execution_count": null,
      "outputs": [
        {
          "output_type": "stream",
          "name": "stdout",
          "text": [
            "[20, 40, 60, 80, 100]\n"
          ]
        }
      ]
    },
    {
      "cell_type": "code",
      "source": [
        "#Combining Data Dictionary and Functions Question:\n",
        "#Create a dictionary named students to store the names and grades of three students: students = {\"Alice\": 85, \"Bob\": 78, \"Eve\": 92}\n",
        " #a) Write a function named add_student that accepts a dictionary, a student name, and a grade, then adds the student to the dictionary.\n",
        " #b) Write another function named average_grade that calculates the average grade of all students in the dictionary. Call the functions to:\n",
        "#Add a new student (\"David\": 88).\n",
        "#Calculate and print the average grade\n",
        "\n",
        "students = {\"Alice\": 85, \"Bob\": 78, \"Eve\": 92}\n",
        "\n",
        "# Function to add a student to the dictionary\n",
        "def add_student(student_dict, name, grade):\n",
        "    student_dict[name] = grade\n",
        "\n",
        "# Function to calculate the average grade\n",
        "def average_grade(student_dict):\n",
        "    return sum(student_dict.values()) / len(student_dict)\n",
        "\n",
        "# Add a new student\n",
        "add_student(students, \"David\", 88)\n",
        "\n",
        "# Calculate and print the average grade\n",
        "avg = average_grade(students)\n",
        "print(\"Average Grade:\", avg)"
      ],
      "metadata": {
        "colab": {
          "base_uri": "https://localhost:8080/"
        },
        "id": "gnyojFjGhHtU",
        "outputId": "d63ea7d7-68f4-4f85-9b60-8fa91368d52f"
      },
      "execution_count": null,
      "outputs": [
        {
          "output_type": "stream",
          "name": "stdout",
          "text": [
            "Average Grade: 85.75\n"
          ]
        }
      ]
    },
    {
      "cell_type": "code",
      "source": [],
      "metadata": {
        "id": "5O1TizNkhHqa"
      },
      "execution_count": null,
      "outputs": []
    },
    {
      "cell_type": "code",
      "source": [],
      "metadata": {
        "id": "FdnHd1gqhHob"
      },
      "execution_count": null,
      "outputs": []
    },
    {
      "cell_type": "markdown",
      "source": [],
      "metadata": {
        "id": "Wg2q1nlkfl10"
      }
    },
    {
      "cell_type": "markdown",
      "source": [],
      "metadata": {
        "id": "QKukEwVofAzy"
      }
    }
  ]
}