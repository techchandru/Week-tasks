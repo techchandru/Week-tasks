{
  "nbformat": 4,
  "nbformat_minor": 0,
  "metadata": {
    "colab": {
      "provenance": [],
      "authorship_tag": "ABX9TyNj86YB1FFYeNUSqzxXEW50",
      "include_colab_link": true
    },
    "kernelspec": {
      "name": "python3",
      "display_name": "Python 3"
    },
    "language_info": {
      "name": "python"
    }
  },
  "cells": [
    {
      "cell_type": "markdown",
      "metadata": {
        "id": "view-in-github",
        "colab_type": "text"
      },
      "source": [
        "<a href=\"https://colab.research.google.com/github/techchandru/Week-tasks/blob/main/week_assessment_4_pynb.ipynb\" target=\"_parent\"><img src=\"https://colab.research.google.com/assets/colab-badge.svg\" alt=\"Open In Colab\"/></a>"
      ]
    },
    {
      "cell_type": "code",
      "execution_count": null,
      "metadata": {
        "id": "8OUG_YQPNNZJ"
      },
      "outputs": [],
      "source": [
        "# Case Study: Library Management System\n",
        "# Scenario:\n",
        "# You are designing a Library Management System that allows users to borrow and return books. The system should support different types of users (Students, Professors) and different types of books (Physical books, E-books). The system should also ensure data security by preventing unauthorized access to certain attributes.\n",
        "# Requirements:\n",
        "# Implement a Book class with details like title, author, isbn, and availability_status.\n",
        "# Implement a User class that holds name and user_type (either \"Student\" or \"Professor\").\n",
        "# Use Inheritance to create specialized user types (Student, Professor) with different borrowing limits.\n",
        "# Use Encapsulation to ensure that certain data (like the number of copies available) is not modified directly.\n",
        "# Use Polymorphism to allow different types of books (e.g., PhysicalBook and EBook) to implement a common method for checking availability.\n",
        "# Use Abstraction to define a common structure for Book that must be implemented by all book types.\n",
        "\n",
        "# Questions:\n",
        "# 1. Encapsulation\n",
        "# Why is __copies defined as a private attribute in PhysicalBook?\n",
        "# How can we modify __copies safely without directly accessing it?\n",
        "\n",
        "# 2. Inheritance\n",
        "# What is the purpose of Student and Professor classes inheriting from User?\n",
        "# If a new type of user (e.g., Librarian) needs to be added, how can it be done?\n",
        "\n",
        "# 3. Polymorphism\n",
        "# Both PhysicalBook and EBook implement check_availability(). How does this demonstrate polymorphism?\n",
        "# Modify the program so that EBook also has a borrow method, but does not reduce copies when borrowed.\n",
        "\n",
        "# 4. Abstraction\n",
        "# Why do we declare Book as an abstract class instead of using it directly?\n",
        "# What will happen if we try to create an object of Book?\n",
        "\n",
        "# 5. Real-World Application\n",
        "# How would you extend this program to track borrowed books per user?\n",
        "# If books have different borrowing durations (e.g., E-books for 14 days, Physical books for 30 days), how would you implement that?\n",
        "\n",
        "# Bonus Task: Extend the Case Study\n",
        "# Implement a Librarian class who can add new books to the system.\n",
        "# Implement a Book Catalog that stores multiple books and allows users to search for a book by title or author."
      ]
    },
    {
      "cell_type": "code",
      "source": [
        "\n",
        "class Book:\n",
        "    def __init__(self, title, author, isbn):\n",
        "        self.title = title\n",
        "        self.author = author\n",
        "        self.isbn = isbn\n",
        "        self.__copies = 0\n",
        "    def check_availability(self):\n",
        "        return True\n",
        "    def set_copies(self, copies):\n",
        "        self.__copies = copies\n",
        "    def get_copies(self):\n",
        "        return self.__copies\n",
        "class PhysicalBook(Book):\n",
        "    def __init__(self, title, author, isbn, copies):\n",
        "        super().__init__(title, author, isbn)\n",
        "        self.set_copies(copies)\n",
        "\n",
        "    def check_availability(self):\n",
        "        if self.get_copies() > 0:\n",
        "            return True\n",
        "        return False\n",
        "    def borrow(self):\n",
        "        if self.check_availability():\n",
        "            self.set_copies(self.get_copies() - 1)\n",
        "            return True\n",
        "        return False\n",
        "    def return_book(self):\n",
        "        self.set_copies(self.get_copies() + 1)\n",
        "        return True\n",
        "\n",
        "class EBook(Book):\n",
        "    def __init__(self,title,author,isbn,online_users):\n",
        "      super().__init__(title,author,isbn)\n",
        "      self.__online_users = online_users\n",
        "      self.__current_users = 0\n",
        "\n",
        "    def get_online_users(self):\n",
        "      return self.__online_users\n",
        "\n",
        "    def check_availability(self):\n",
        "      return self.__current_users < self.__online_users\n",
        "\n",
        "    def borrow_book(self):\n",
        "      if self.check_availability():\n",
        "          self.__current_users += 1\n",
        "\n",
        "    def return_book(self):\n",
        "        if self.__current_users > 0:\n",
        "            self.__current_users -= 1"
      ],
      "metadata": {
        "id": "fJREeDx_PLay"
      },
      "execution_count": 1,
      "outputs": []
    },
    {
      "cell_type": "code",
      "source": [
        "class User:\n",
        "    def __init__(self, name, user_type):\n",
        "        self.name = name\n",
        "        self.user_type = user_type\n",
        "class Student(User):\n",
        "    def __init__(self, name):\n",
        "        super().__init__(name, \"Student\")\n",
        "        self.borrow_limit = 3\n",
        "class Professor(User):\n",
        "    def __init__(self, name):\n",
        "        super().__init__(name, \"Professor\")\n",
        "        self.borrow_limit = 6"
      ],
      "metadata": {
        "id": "pfBmZiSSPWVI"
      },
      "execution_count": 2,
      "outputs": []
    },
    {
      "cell_type": "code",
      "source": [
        "s1 = Student(\"John\")\n",
        "print(s1.name)\n",
        "print(s1.user_type)\n",
        "print(s1.borrow_limit)\n",
        "p1 = Professor(\"Jane\")\n",
        "print(p1.name)\n",
        "print(p1.user_type)\n",
        "print(p1.borrow_limit)\n",
        "l1 = PhysicalBook(\"The Great Gatsby\", \"F. Scott Fitzgerald\", \"978-0743273565\", 5)\n",
        "print(l1.title)\n",
        "print(l1.author)\n",
        "print(l1.isbn)\n",
        "print(l1.check_availability())\n",
        "print(l1.borrow())\n",
        "print(l1.check_availability())\n",
        "print(l1.return_book())\n",
        "print(l1.check_availability())\n",
        "m1 = EBook(\"To Kill a Mockingbird\", \"Harper Lee\", \"978-0446310789\", 3)\n",
        "print(m1.title)\n",
        "print(m1.author)\n",
        "print(m1.isbn)\n"
      ],
      "metadata": {
        "colab": {
          "base_uri": "https://localhost:8080/"
        },
        "id": "bRWVyFszPWF4",
        "outputId": "c5def3fc-dee0-4458-b076-dcd4e987979d"
      },
      "execution_count": 3,
      "outputs": [
        {
          "output_type": "stream",
          "name": "stdout",
          "text": [
            "John\n",
            "Student\n",
            "3\n",
            "Jane\n",
            "Professor\n",
            "6\n",
            "The Great Gatsby\n",
            "F. Scott Fitzgerald\n",
            "978-0743273565\n",
            "True\n",
            "True\n",
            "True\n",
            "True\n",
            "True\n",
            "To Kill a Mockingbird\n",
            "Harper Lee\n",
            "978-0446310789\n"
          ]
        }
      ]
    },
    {
      "cell_type": "code",
      "source": [],
      "metadata": {
        "id": "1EtbDN8-PV5u"
      },
      "execution_count": null,
      "outputs": []
    },
    {
      "cell_type": "code",
      "source": [
        "# 2. Inheritance\n",
        "# What is the purpose of Student and Professor classes inheriting from User?\n",
        "  #ans : To avoid duplication\n",
        "\n",
        "# If a new type of user (e.g., Librarian) needs to be added, how can it be done?\n",
        "  #ans :\n",
        "class Librarian(User):\n",
        "    def __init__(self, name):\n",
        "        super().__init__(name, user_type=\"Librarian\")\n",
        "\n",
        "    def add_book(self, catalog, book):\n",
        "        catalog.add_book(book)"
      ],
      "metadata": {
        "id": "grZ2zfdWPVo7"
      },
      "execution_count": 4,
      "outputs": []
    },
    {
      "cell_type": "code",
      "source": [
        "# 3. Polymorphism\n",
        "# Both PhysicalBook and EBook implement check_availability(). How does this demonstrate polymorphism?\n",
        "\n",
        "# Modify the program so that EBook also has a borrow method, but does not reduce copies when borrowed.\n",
        "  # answer :\n",
        "class Ebooks(Book):\n",
        "    def __init__(self,title,author,isbn,online_users):\n",
        "      super().__init__(title,author,isbn)\n",
        "      self.__online_users = online_users\n",
        "      self.__current_users = 0\n",
        "\n",
        "    def get_online_users(self):\n",
        "      return self.__online_users\n",
        "\n",
        "    def check_availability(self):\n",
        "      return self.__current_users < self.__online_users\n",
        "\n",
        "    def borrow_book(self):\n",
        "      if self.check_availability():\n",
        "          self.__current_users += 1\n",
        "\n",
        "    def return_book(self):\n",
        "        if self.__current_users > 0:\n",
        "            self.__current_users -= 1\n"
      ],
      "metadata": {
        "id": "5etswRg6P06c"
      },
      "execution_count": 7,
      "outputs": []
    },
    {
      "cell_type": "code",
      "source": [],
      "metadata": {
        "id": "2ilE4pqEP01k"
      },
      "execution_count": null,
      "outputs": []
    },
    {
      "cell_type": "code",
      "source": [
        "# 5. Real-World Application\n",
        "# How would you extend this program to track borrowed books per user?\n",
        "#The current program borrows the books from the user to get data from each user can create a list with book,borrow_date and due_date has followed :\n",
        "  # self.borrowed_books.append({\n",
        "  #     \"book\": book,\n",
        "  #     \"borrow_date\": borrow_date,\n",
        "  #     \"due_date\": due_date\n",
        "# If books have different borrowing durations (e.g., E-books for 14 days, Physical books for 30 days), how would you implement that?\n",
        "#use an function like get_borrow_duration in the code for physical and ebook as follows :\n",
        "# For physical book,\n",
        "\n",
        "# def get_borrow_duration(self):\n",
        "#     return timedelta(days=30)\n",
        "\n",
        "#  For ebook,\n",
        "\n",
        "# def get_borrow_duration(self):\n",
        "#     return timedelta(days=14)\n",
        "#     . Here Each user has a borrowed_books list in their User object.The list stores details about the book, borrow date, and due date.\n",
        "#     . Each book type implements the get_borrow_duration method, returning a specific duration (e.g., 30 days for PhysicalBooks, 14 days for EBooks).This method ensures flexibility and adherence to the specific borrowing rules for different book types"
      ],
      "metadata": {
        "id": "RclocsPIP0qH"
      },
      "execution_count": null,
      "outputs": []
    },
    {
      "cell_type": "code",
      "source": [
        "\n",
        "# Bonus Task: Extend the Case Study\n",
        "\n",
        "# Implement a Librarian class who can add new books to the system.\n",
        "# def add_book(self,catlog,book):\n",
        "#   catlog.add_book(book)\n",
        "#   print(f\"{self.name} added '{book.title}' to the catalog.\")\n",
        "\n",
        "# Implement a Book Catalog that stores multiple books and allows users to search for a book by title or author.\n",
        "# def (self,physicalbook,book_to_find,catlog):\n",
        "#   for i in catlog.book:\n",
        "#     if book_to_find == catlog:\n",
        "#   return book_to_find"
      ],
      "metadata": {
        "id": "WP71UJBwP0kK"
      },
      "execution_count": null,
      "outputs": []
    }
  ]
}