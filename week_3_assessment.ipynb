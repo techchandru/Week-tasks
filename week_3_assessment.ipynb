{
  "nbformat": 4,
  "nbformat_minor": 0,
  "metadata": {
    "colab": {
      "provenance": [],
      "toc_visible": true,
      "mount_file_id": "1cg41YrEbwNAAihpoR2QVXrbBQLXaU7gH",
      "authorship_tag": "ABX9TyMp7keOypM/92jiwijFAEp9",
      "include_colab_link": true
    },
    "kernelspec": {
      "name": "python3",
      "display_name": "Python 3"
    },
    "language_info": {
      "name": "python"
    }
  },
  "cells": [
    {
      "cell_type": "markdown",
      "metadata": {
        "id": "view-in-github",
        "colab_type": "text"
      },
      "source": [
        "<a href=\"https://colab.research.google.com/github/techchandru/Week-tasks/blob/main/week_3_assessment.ipynb\" target=\"_parent\"><img src=\"https://colab.research.google.com/assets/colab-badge.svg\" alt=\"Open In Colab\"/></a>"
      ]
    },
    {
      "cell_type": "code",
      "execution_count": null,
      "metadata": {
        "id": "bTGUKq4Gs8Zv"
      },
      "outputs": [],
      "source": [
        "from google.colab import drive"
      ]
    },
    {
      "cell_type": "code",
      "source": [
        "drive.mount('/content/drive')\n"
      ],
      "metadata": {
        "colab": {
          "base_uri": "https://localhost:8080/"
        },
        "id": "eqX0JWfrNALJ",
        "outputId": "237b828e-dcbf-440a-ad14-9ec0095fa6c4"
      },
      "execution_count": null,
      "outputs": [
        {
          "output_type": "stream",
          "name": "stdout",
          "text": [
            "Mounted at /content/drive\n"
          ]
        }
      ]
    },
    {
      "cell_type": "code",
      "source": [
        "from google.colab import drive\n",
        "drive.mount('/content/drive')"
      ],
      "metadata": {
        "colab": {
          "base_uri": "https://localhost:8080/"
        },
        "id": "ox1uYqNcNaj5",
        "outputId": "d5e89d56-6cb9-4d90-ca52-081703d9b80c"
      },
      "execution_count": null,
      "outputs": [
        {
          "output_type": "stream",
          "name": "stdout",
          "text": [
            "Drive already mounted at /content/drive; to attempt to forcibly remount, call drive.mount(\"/content/drive\", force_remount=True).\n"
          ]
        }
      ]
    },
    {
      "cell_type": "code",
      "source": [
        "from enum import auto\n",
        "import pandas as pd\n",
        "automobile = pd.read_csv('/content/drive/MyDrive/data/Automobile.csv')\n",
        "automobile.head()"
      ],
      "metadata": {
        "colab": {
          "base_uri": "https://localhost:8080/",
          "height": 308
        },
        "id": "WSM3WhdlNujf",
        "outputId": "29c0ca9f-09f0-42f4-f9d9-ef43c123638c"
      },
      "execution_count": null,
      "outputs": [
        {
          "output_type": "execute_result",
          "data": {
            "text/plain": [
              "   symboling  normalized_losses         make fuel_type aspiration  \\\n",
              "0          3                168  alfa-romero       gas        std   \n",
              "1          3                168  alfa-romero       gas        std   \n",
              "2          1                168  alfa-romero       gas        std   \n",
              "3          2                164         audi       gas        std   \n",
              "4          2                164         audi       gas        std   \n",
              "\n",
              "  number_of_doors   body_style drive_wheels engine_location  wheel_base  ...  \\\n",
              "0             two  convertible          rwd           front        88.6  ...   \n",
              "1             two  convertible          rwd           front        88.6  ...   \n",
              "2             two    hatchback          rwd           front        94.5  ...   \n",
              "3            four        sedan          fwd           front        99.8  ...   \n",
              "4            four        sedan          4wd           front        99.4  ...   \n",
              "\n",
              "   engine_size  fuel_system  bore  stroke compression_ratio horsepower  \\\n",
              "0          130         mpfi  3.47    2.68               9.0        111   \n",
              "1          130         mpfi  3.47    2.68               9.0        111   \n",
              "2          152         mpfi  2.68    3.47               9.0        154   \n",
              "3          109         mpfi  3.19    3.40              10.0        102   \n",
              "4          136         mpfi  3.19    3.40               8.0        115   \n",
              "\n",
              "   peak_rpm city_mpg  highway_mpg  price  \n",
              "0      5000       21           27  13495  \n",
              "1      5000       21           27  16500  \n",
              "2      5000       19           26  16500  \n",
              "3      5500       24           30  13950  \n",
              "4      5500       18           22  17450  \n",
              "\n",
              "[5 rows x 26 columns]"
            ],
            "text/html": [
              "\n",
              "  <div id=\"df-ac4aeb9a-9c1d-4f23-9849-9b62dc5531e3\" class=\"colab-df-container\">\n",
              "    <div>\n",
              "<style scoped>\n",
              "    .dataframe tbody tr th:only-of-type {\n",
              "        vertical-align: middle;\n",
              "    }\n",
              "\n",
              "    .dataframe tbody tr th {\n",
              "        vertical-align: top;\n",
              "    }\n",
              "\n",
              "    .dataframe thead th {\n",
              "        text-align: right;\n",
              "    }\n",
              "</style>\n",
              "<table border=\"1\" class=\"dataframe\">\n",
              "  <thead>\n",
              "    <tr style=\"text-align: right;\">\n",
              "      <th></th>\n",
              "      <th>symboling</th>\n",
              "      <th>normalized_losses</th>\n",
              "      <th>make</th>\n",
              "      <th>fuel_type</th>\n",
              "      <th>aspiration</th>\n",
              "      <th>number_of_doors</th>\n",
              "      <th>body_style</th>\n",
              "      <th>drive_wheels</th>\n",
              "      <th>engine_location</th>\n",
              "      <th>wheel_base</th>\n",
              "      <th>...</th>\n",
              "      <th>engine_size</th>\n",
              "      <th>fuel_system</th>\n",
              "      <th>bore</th>\n",
              "      <th>stroke</th>\n",
              "      <th>compression_ratio</th>\n",
              "      <th>horsepower</th>\n",
              "      <th>peak_rpm</th>\n",
              "      <th>city_mpg</th>\n",
              "      <th>highway_mpg</th>\n",
              "      <th>price</th>\n",
              "    </tr>\n",
              "  </thead>\n",
              "  <tbody>\n",
              "    <tr>\n",
              "      <th>0</th>\n",
              "      <td>3</td>\n",
              "      <td>168</td>\n",
              "      <td>alfa-romero</td>\n",
              "      <td>gas</td>\n",
              "      <td>std</td>\n",
              "      <td>two</td>\n",
              "      <td>convertible</td>\n",
              "      <td>rwd</td>\n",
              "      <td>front</td>\n",
              "      <td>88.6</td>\n",
              "      <td>...</td>\n",
              "      <td>130</td>\n",
              "      <td>mpfi</td>\n",
              "      <td>3.47</td>\n",
              "      <td>2.68</td>\n",
              "      <td>9.0</td>\n",
              "      <td>111</td>\n",
              "      <td>5000</td>\n",
              "      <td>21</td>\n",
              "      <td>27</td>\n",
              "      <td>13495</td>\n",
              "    </tr>\n",
              "    <tr>\n",
              "      <th>1</th>\n",
              "      <td>3</td>\n",
              "      <td>168</td>\n",
              "      <td>alfa-romero</td>\n",
              "      <td>gas</td>\n",
              "      <td>std</td>\n",
              "      <td>two</td>\n",
              "      <td>convertible</td>\n",
              "      <td>rwd</td>\n",
              "      <td>front</td>\n",
              "      <td>88.6</td>\n",
              "      <td>...</td>\n",
              "      <td>130</td>\n",
              "      <td>mpfi</td>\n",
              "      <td>3.47</td>\n",
              "      <td>2.68</td>\n",
              "      <td>9.0</td>\n",
              "      <td>111</td>\n",
              "      <td>5000</td>\n",
              "      <td>21</td>\n",
              "      <td>27</td>\n",
              "      <td>16500</td>\n",
              "    </tr>\n",
              "    <tr>\n",
              "      <th>2</th>\n",
              "      <td>1</td>\n",
              "      <td>168</td>\n",
              "      <td>alfa-romero</td>\n",
              "      <td>gas</td>\n",
              "      <td>std</td>\n",
              "      <td>two</td>\n",
              "      <td>hatchback</td>\n",
              "      <td>rwd</td>\n",
              "      <td>front</td>\n",
              "      <td>94.5</td>\n",
              "      <td>...</td>\n",
              "      <td>152</td>\n",
              "      <td>mpfi</td>\n",
              "      <td>2.68</td>\n",
              "      <td>3.47</td>\n",
              "      <td>9.0</td>\n",
              "      <td>154</td>\n",
              "      <td>5000</td>\n",
              "      <td>19</td>\n",
              "      <td>26</td>\n",
              "      <td>16500</td>\n",
              "    </tr>\n",
              "    <tr>\n",
              "      <th>3</th>\n",
              "      <td>2</td>\n",
              "      <td>164</td>\n",
              "      <td>audi</td>\n",
              "      <td>gas</td>\n",
              "      <td>std</td>\n",
              "      <td>four</td>\n",
              "      <td>sedan</td>\n",
              "      <td>fwd</td>\n",
              "      <td>front</td>\n",
              "      <td>99.8</td>\n",
              "      <td>...</td>\n",
              "      <td>109</td>\n",
              "      <td>mpfi</td>\n",
              "      <td>3.19</td>\n",
              "      <td>3.40</td>\n",
              "      <td>10.0</td>\n",
              "      <td>102</td>\n",
              "      <td>5500</td>\n",
              "      <td>24</td>\n",
              "      <td>30</td>\n",
              "      <td>13950</td>\n",
              "    </tr>\n",
              "    <tr>\n",
              "      <th>4</th>\n",
              "      <td>2</td>\n",
              "      <td>164</td>\n",
              "      <td>audi</td>\n",
              "      <td>gas</td>\n",
              "      <td>std</td>\n",
              "      <td>four</td>\n",
              "      <td>sedan</td>\n",
              "      <td>4wd</td>\n",
              "      <td>front</td>\n",
              "      <td>99.4</td>\n",
              "      <td>...</td>\n",
              "      <td>136</td>\n",
              "      <td>mpfi</td>\n",
              "      <td>3.19</td>\n",
              "      <td>3.40</td>\n",
              "      <td>8.0</td>\n",
              "      <td>115</td>\n",
              "      <td>5500</td>\n",
              "      <td>18</td>\n",
              "      <td>22</td>\n",
              "      <td>17450</td>\n",
              "    </tr>\n",
              "  </tbody>\n",
              "</table>\n",
              "<p>5 rows × 26 columns</p>\n",
              "</div>\n",
              "    <div class=\"colab-df-buttons\">\n",
              "\n",
              "  <div class=\"colab-df-container\">\n",
              "    <button class=\"colab-df-convert\" onclick=\"convertToInteractive('df-ac4aeb9a-9c1d-4f23-9849-9b62dc5531e3')\"\n",
              "            title=\"Convert this dataframe to an interactive table.\"\n",
              "            style=\"display:none;\">\n",
              "\n",
              "  <svg xmlns=\"http://www.w3.org/2000/svg\" height=\"24px\" viewBox=\"0 -960 960 960\">\n",
              "    <path d=\"M120-120v-720h720v720H120Zm60-500h600v-160H180v160Zm220 220h160v-160H400v160Zm0 220h160v-160H400v160ZM180-400h160v-160H180v160Zm440 0h160v-160H620v160ZM180-180h160v-160H180v160Zm440 0h160v-160H620v160Z\"/>\n",
              "  </svg>\n",
              "    </button>\n",
              "\n",
              "  <style>\n",
              "    .colab-df-container {\n",
              "      display:flex;\n",
              "      gap: 12px;\n",
              "    }\n",
              "\n",
              "    .colab-df-convert {\n",
              "      background-color: #E8F0FE;\n",
              "      border: none;\n",
              "      border-radius: 50%;\n",
              "      cursor: pointer;\n",
              "      display: none;\n",
              "      fill: #1967D2;\n",
              "      height: 32px;\n",
              "      padding: 0 0 0 0;\n",
              "      width: 32px;\n",
              "    }\n",
              "\n",
              "    .colab-df-convert:hover {\n",
              "      background-color: #E2EBFA;\n",
              "      box-shadow: 0px 1px 2px rgba(60, 64, 67, 0.3), 0px 1px 3px 1px rgba(60, 64, 67, 0.15);\n",
              "      fill: #174EA6;\n",
              "    }\n",
              "\n",
              "    .colab-df-buttons div {\n",
              "      margin-bottom: 4px;\n",
              "    }\n",
              "\n",
              "    [theme=dark] .colab-df-convert {\n",
              "      background-color: #3B4455;\n",
              "      fill: #D2E3FC;\n",
              "    }\n",
              "\n",
              "    [theme=dark] .colab-df-convert:hover {\n",
              "      background-color: #434B5C;\n",
              "      box-shadow: 0px 1px 3px 1px rgba(0, 0, 0, 0.15);\n",
              "      filter: drop-shadow(0px 1px 2px rgba(0, 0, 0, 0.3));\n",
              "      fill: #FFFFFF;\n",
              "    }\n",
              "  </style>\n",
              "\n",
              "    <script>\n",
              "      const buttonEl =\n",
              "        document.querySelector('#df-ac4aeb9a-9c1d-4f23-9849-9b62dc5531e3 button.colab-df-convert');\n",
              "      buttonEl.style.display =\n",
              "        google.colab.kernel.accessAllowed ? 'block' : 'none';\n",
              "\n",
              "      async function convertToInteractive(key) {\n",
              "        const element = document.querySelector('#df-ac4aeb9a-9c1d-4f23-9849-9b62dc5531e3');\n",
              "        const dataTable =\n",
              "          await google.colab.kernel.invokeFunction('convertToInteractive',\n",
              "                                                    [key], {});\n",
              "        if (!dataTable) return;\n",
              "\n",
              "        const docLinkHtml = 'Like what you see? Visit the ' +\n",
              "          '<a target=\"_blank\" href=https://colab.research.google.com/notebooks/data_table.ipynb>data table notebook</a>'\n",
              "          + ' to learn more about interactive tables.';\n",
              "        element.innerHTML = '';\n",
              "        dataTable['output_type'] = 'display_data';\n",
              "        await google.colab.output.renderOutput(dataTable, element);\n",
              "        const docLink = document.createElement('div');\n",
              "        docLink.innerHTML = docLinkHtml;\n",
              "        element.appendChild(docLink);\n",
              "      }\n",
              "    </script>\n",
              "  </div>\n",
              "\n",
              "\n",
              "<div id=\"df-d12f1ed4-cb7e-4e60-8378-a490bf7953d1\">\n",
              "  <button class=\"colab-df-quickchart\" onclick=\"quickchart('df-d12f1ed4-cb7e-4e60-8378-a490bf7953d1')\"\n",
              "            title=\"Suggest charts\"\n",
              "            style=\"display:none;\">\n",
              "\n",
              "<svg xmlns=\"http://www.w3.org/2000/svg\" height=\"24px\"viewBox=\"0 0 24 24\"\n",
              "     width=\"24px\">\n",
              "    <g>\n",
              "        <path d=\"M19 3H5c-1.1 0-2 .9-2 2v14c0 1.1.9 2 2 2h14c1.1 0 2-.9 2-2V5c0-1.1-.9-2-2-2zM9 17H7v-7h2v7zm4 0h-2V7h2v10zm4 0h-2v-4h2v4z\"/>\n",
              "    </g>\n",
              "</svg>\n",
              "  </button>\n",
              "\n",
              "<style>\n",
              "  .colab-df-quickchart {\n",
              "      --bg-color: #E8F0FE;\n",
              "      --fill-color: #1967D2;\n",
              "      --hover-bg-color: #E2EBFA;\n",
              "      --hover-fill-color: #174EA6;\n",
              "      --disabled-fill-color: #AAA;\n",
              "      --disabled-bg-color: #DDD;\n",
              "  }\n",
              "\n",
              "  [theme=dark] .colab-df-quickchart {\n",
              "      --bg-color: #3B4455;\n",
              "      --fill-color: #D2E3FC;\n",
              "      --hover-bg-color: #434B5C;\n",
              "      --hover-fill-color: #FFFFFF;\n",
              "      --disabled-bg-color: #3B4455;\n",
              "      --disabled-fill-color: #666;\n",
              "  }\n",
              "\n",
              "  .colab-df-quickchart {\n",
              "    background-color: var(--bg-color);\n",
              "    border: none;\n",
              "    border-radius: 50%;\n",
              "    cursor: pointer;\n",
              "    display: none;\n",
              "    fill: var(--fill-color);\n",
              "    height: 32px;\n",
              "    padding: 0;\n",
              "    width: 32px;\n",
              "  }\n",
              "\n",
              "  .colab-df-quickchart:hover {\n",
              "    background-color: var(--hover-bg-color);\n",
              "    box-shadow: 0 1px 2px rgba(60, 64, 67, 0.3), 0 1px 3px 1px rgba(60, 64, 67, 0.15);\n",
              "    fill: var(--button-hover-fill-color);\n",
              "  }\n",
              "\n",
              "  .colab-df-quickchart-complete:disabled,\n",
              "  .colab-df-quickchart-complete:disabled:hover {\n",
              "    background-color: var(--disabled-bg-color);\n",
              "    fill: var(--disabled-fill-color);\n",
              "    box-shadow: none;\n",
              "  }\n",
              "\n",
              "  .colab-df-spinner {\n",
              "    border: 2px solid var(--fill-color);\n",
              "    border-color: transparent;\n",
              "    border-bottom-color: var(--fill-color);\n",
              "    animation:\n",
              "      spin 1s steps(1) infinite;\n",
              "  }\n",
              "\n",
              "  @keyframes spin {\n",
              "    0% {\n",
              "      border-color: transparent;\n",
              "      border-bottom-color: var(--fill-color);\n",
              "      border-left-color: var(--fill-color);\n",
              "    }\n",
              "    20% {\n",
              "      border-color: transparent;\n",
              "      border-left-color: var(--fill-color);\n",
              "      border-top-color: var(--fill-color);\n",
              "    }\n",
              "    30% {\n",
              "      border-color: transparent;\n",
              "      border-left-color: var(--fill-color);\n",
              "      border-top-color: var(--fill-color);\n",
              "      border-right-color: var(--fill-color);\n",
              "    }\n",
              "    40% {\n",
              "      border-color: transparent;\n",
              "      border-right-color: var(--fill-color);\n",
              "      border-top-color: var(--fill-color);\n",
              "    }\n",
              "    60% {\n",
              "      border-color: transparent;\n",
              "      border-right-color: var(--fill-color);\n",
              "    }\n",
              "    80% {\n",
              "      border-color: transparent;\n",
              "      border-right-color: var(--fill-color);\n",
              "      border-bottom-color: var(--fill-color);\n",
              "    }\n",
              "    90% {\n",
              "      border-color: transparent;\n",
              "      border-bottom-color: var(--fill-color);\n",
              "    }\n",
              "  }\n",
              "</style>\n",
              "\n",
              "  <script>\n",
              "    async function quickchart(key) {\n",
              "      const quickchartButtonEl =\n",
              "        document.querySelector('#' + key + ' button');\n",
              "      quickchartButtonEl.disabled = true;  // To prevent multiple clicks.\n",
              "      quickchartButtonEl.classList.add('colab-df-spinner');\n",
              "      try {\n",
              "        const charts = await google.colab.kernel.invokeFunction(\n",
              "            'suggestCharts', [key], {});\n",
              "      } catch (error) {\n",
              "        console.error('Error during call to suggestCharts:', error);\n",
              "      }\n",
              "      quickchartButtonEl.classList.remove('colab-df-spinner');\n",
              "      quickchartButtonEl.classList.add('colab-df-quickchart-complete');\n",
              "    }\n",
              "    (() => {\n",
              "      let quickchartButtonEl =\n",
              "        document.querySelector('#df-d12f1ed4-cb7e-4e60-8378-a490bf7953d1 button');\n",
              "      quickchartButtonEl.style.display =\n",
              "        google.colab.kernel.accessAllowed ? 'block' : 'none';\n",
              "    })();\n",
              "  </script>\n",
              "</div>\n",
              "\n",
              "    </div>\n",
              "  </div>\n"
            ],
            "application/vnd.google.colaboratory.intrinsic+json": {
              "type": "dataframe",
              "variable_name": "automobile"
            }
          },
          "metadata": {},
          "execution_count": 6
        }
      ]
    },
    {
      "cell_type": "code",
      "source": [
        "# 1. Loading a CSV File & Basic Exploration\n",
        "# Given a CSV file named \"Automobile.csv\":\n",
        "# Task\n",
        "# Write Python code to:\n",
        "# Load the CSV file into a Pandas DataFrame.\n",
        "# •\tDisplay the first 30 rows.\n",
        "# •\tPrint column names.\n",
        "# •\tPrint No of Rows & Columns\n",
        "# •\tFind the Data Types of every column & check if there are any mismatch\n",
        "# •\tWhat are the minimum & maximum price of the car & state fuel type they belong to\n",
        "# •\tList all the unique engine types\n",
        "# •\tFind the horsepower range\n",
        "# •\tWhat is the average mpg in cities & highway. Which is better?\n",
        "# •\tWhat are the different Automobile makes present & which has maximum count?\n",
        "from enum import auto\n",
        "import pandas as pd\n",
        "df = pd.read_csv('/content/drive/MyDrive/data/Automobile.csv')\n",
        "df.head(5)\n",
        "\n"
      ],
      "metadata": {
        "id": "nLR19e7RGxLc",
        "colab": {
          "base_uri": "https://localhost:8080/",
          "height": 308
        },
        "outputId": "3b4c48b9-e52d-42c0-9666-4895080bcf29"
      },
      "execution_count": null,
      "outputs": [
        {
          "output_type": "execute_result",
          "data": {
            "text/plain": [
              "   symboling  normalized_losses         make fuel_type aspiration  \\\n",
              "0          3                168  alfa-romero       gas        std   \n",
              "1          3                168  alfa-romero       gas        std   \n",
              "2          1                168  alfa-romero       gas        std   \n",
              "3          2                164         audi       gas        std   \n",
              "4          2                164         audi       gas        std   \n",
              "\n",
              "  number_of_doors   body_style drive_wheels engine_location  wheel_base  ...  \\\n",
              "0             two  convertible          rwd           front        88.6  ...   \n",
              "1             two  convertible          rwd           front        88.6  ...   \n",
              "2             two    hatchback          rwd           front        94.5  ...   \n",
              "3            four        sedan          fwd           front        99.8  ...   \n",
              "4            four        sedan          4wd           front        99.4  ...   \n",
              "\n",
              "   engine_size  fuel_system  bore  stroke compression_ratio horsepower  \\\n",
              "0          130         mpfi  3.47    2.68               9.0        111   \n",
              "1          130         mpfi  3.47    2.68               9.0        111   \n",
              "2          152         mpfi  2.68    3.47               9.0        154   \n",
              "3          109         mpfi  3.19    3.40              10.0        102   \n",
              "4          136         mpfi  3.19    3.40               8.0        115   \n",
              "\n",
              "   peak_rpm city_mpg  highway_mpg  price  \n",
              "0      5000       21           27  13495  \n",
              "1      5000       21           27  16500  \n",
              "2      5000       19           26  16500  \n",
              "3      5500       24           30  13950  \n",
              "4      5500       18           22  17450  \n",
              "\n",
              "[5 rows x 26 columns]"
            ],
            "text/html": [
              "\n",
              "  <div id=\"df-aa07b5a7-a308-42f1-ad6f-09909f1999ac\" class=\"colab-df-container\">\n",
              "    <div>\n",
              "<style scoped>\n",
              "    .dataframe tbody tr th:only-of-type {\n",
              "        vertical-align: middle;\n",
              "    }\n",
              "\n",
              "    .dataframe tbody tr th {\n",
              "        vertical-align: top;\n",
              "    }\n",
              "\n",
              "    .dataframe thead th {\n",
              "        text-align: right;\n",
              "    }\n",
              "</style>\n",
              "<table border=\"1\" class=\"dataframe\">\n",
              "  <thead>\n",
              "    <tr style=\"text-align: right;\">\n",
              "      <th></th>\n",
              "      <th>symboling</th>\n",
              "      <th>normalized_losses</th>\n",
              "      <th>make</th>\n",
              "      <th>fuel_type</th>\n",
              "      <th>aspiration</th>\n",
              "      <th>number_of_doors</th>\n",
              "      <th>body_style</th>\n",
              "      <th>drive_wheels</th>\n",
              "      <th>engine_location</th>\n",
              "      <th>wheel_base</th>\n",
              "      <th>...</th>\n",
              "      <th>engine_size</th>\n",
              "      <th>fuel_system</th>\n",
              "      <th>bore</th>\n",
              "      <th>stroke</th>\n",
              "      <th>compression_ratio</th>\n",
              "      <th>horsepower</th>\n",
              "      <th>peak_rpm</th>\n",
              "      <th>city_mpg</th>\n",
              "      <th>highway_mpg</th>\n",
              "      <th>price</th>\n",
              "    </tr>\n",
              "  </thead>\n",
              "  <tbody>\n",
              "    <tr>\n",
              "      <th>0</th>\n",
              "      <td>3</td>\n",
              "      <td>168</td>\n",
              "      <td>alfa-romero</td>\n",
              "      <td>gas</td>\n",
              "      <td>std</td>\n",
              "      <td>two</td>\n",
              "      <td>convertible</td>\n",
              "      <td>rwd</td>\n",
              "      <td>front</td>\n",
              "      <td>88.6</td>\n",
              "      <td>...</td>\n",
              "      <td>130</td>\n",
              "      <td>mpfi</td>\n",
              "      <td>3.47</td>\n",
              "      <td>2.68</td>\n",
              "      <td>9.0</td>\n",
              "      <td>111</td>\n",
              "      <td>5000</td>\n",
              "      <td>21</td>\n",
              "      <td>27</td>\n",
              "      <td>13495</td>\n",
              "    </tr>\n",
              "    <tr>\n",
              "      <th>1</th>\n",
              "      <td>3</td>\n",
              "      <td>168</td>\n",
              "      <td>alfa-romero</td>\n",
              "      <td>gas</td>\n",
              "      <td>std</td>\n",
              "      <td>two</td>\n",
              "      <td>convertible</td>\n",
              "      <td>rwd</td>\n",
              "      <td>front</td>\n",
              "      <td>88.6</td>\n",
              "      <td>...</td>\n",
              "      <td>130</td>\n",
              "      <td>mpfi</td>\n",
              "      <td>3.47</td>\n",
              "      <td>2.68</td>\n",
              "      <td>9.0</td>\n",
              "      <td>111</td>\n",
              "      <td>5000</td>\n",
              "      <td>21</td>\n",
              "      <td>27</td>\n",
              "      <td>16500</td>\n",
              "    </tr>\n",
              "    <tr>\n",
              "      <th>2</th>\n",
              "      <td>1</td>\n",
              "      <td>168</td>\n",
              "      <td>alfa-romero</td>\n",
              "      <td>gas</td>\n",
              "      <td>std</td>\n",
              "      <td>two</td>\n",
              "      <td>hatchback</td>\n",
              "      <td>rwd</td>\n",
              "      <td>front</td>\n",
              "      <td>94.5</td>\n",
              "      <td>...</td>\n",
              "      <td>152</td>\n",
              "      <td>mpfi</td>\n",
              "      <td>2.68</td>\n",
              "      <td>3.47</td>\n",
              "      <td>9.0</td>\n",
              "      <td>154</td>\n",
              "      <td>5000</td>\n",
              "      <td>19</td>\n",
              "      <td>26</td>\n",
              "      <td>16500</td>\n",
              "    </tr>\n",
              "    <tr>\n",
              "      <th>3</th>\n",
              "      <td>2</td>\n",
              "      <td>164</td>\n",
              "      <td>audi</td>\n",
              "      <td>gas</td>\n",
              "      <td>std</td>\n",
              "      <td>four</td>\n",
              "      <td>sedan</td>\n",
              "      <td>fwd</td>\n",
              "      <td>front</td>\n",
              "      <td>99.8</td>\n",
              "      <td>...</td>\n",
              "      <td>109</td>\n",
              "      <td>mpfi</td>\n",
              "      <td>3.19</td>\n",
              "      <td>3.40</td>\n",
              "      <td>10.0</td>\n",
              "      <td>102</td>\n",
              "      <td>5500</td>\n",
              "      <td>24</td>\n",
              "      <td>30</td>\n",
              "      <td>13950</td>\n",
              "    </tr>\n",
              "    <tr>\n",
              "      <th>4</th>\n",
              "      <td>2</td>\n",
              "      <td>164</td>\n",
              "      <td>audi</td>\n",
              "      <td>gas</td>\n",
              "      <td>std</td>\n",
              "      <td>four</td>\n",
              "      <td>sedan</td>\n",
              "      <td>4wd</td>\n",
              "      <td>front</td>\n",
              "      <td>99.4</td>\n",
              "      <td>...</td>\n",
              "      <td>136</td>\n",
              "      <td>mpfi</td>\n",
              "      <td>3.19</td>\n",
              "      <td>3.40</td>\n",
              "      <td>8.0</td>\n",
              "      <td>115</td>\n",
              "      <td>5500</td>\n",
              "      <td>18</td>\n",
              "      <td>22</td>\n",
              "      <td>17450</td>\n",
              "    </tr>\n",
              "  </tbody>\n",
              "</table>\n",
              "<p>5 rows × 26 columns</p>\n",
              "</div>\n",
              "    <div class=\"colab-df-buttons\">\n",
              "\n",
              "  <div class=\"colab-df-container\">\n",
              "    <button class=\"colab-df-convert\" onclick=\"convertToInteractive('df-aa07b5a7-a308-42f1-ad6f-09909f1999ac')\"\n",
              "            title=\"Convert this dataframe to an interactive table.\"\n",
              "            style=\"display:none;\">\n",
              "\n",
              "  <svg xmlns=\"http://www.w3.org/2000/svg\" height=\"24px\" viewBox=\"0 -960 960 960\">\n",
              "    <path d=\"M120-120v-720h720v720H120Zm60-500h600v-160H180v160Zm220 220h160v-160H400v160Zm0 220h160v-160H400v160ZM180-400h160v-160H180v160Zm440 0h160v-160H620v160ZM180-180h160v-160H180v160Zm440 0h160v-160H620v160Z\"/>\n",
              "  </svg>\n",
              "    </button>\n",
              "\n",
              "  <style>\n",
              "    .colab-df-container {\n",
              "      display:flex;\n",
              "      gap: 12px;\n",
              "    }\n",
              "\n",
              "    .colab-df-convert {\n",
              "      background-color: #E8F0FE;\n",
              "      border: none;\n",
              "      border-radius: 50%;\n",
              "      cursor: pointer;\n",
              "      display: none;\n",
              "      fill: #1967D2;\n",
              "      height: 32px;\n",
              "      padding: 0 0 0 0;\n",
              "      width: 32px;\n",
              "    }\n",
              "\n",
              "    .colab-df-convert:hover {\n",
              "      background-color: #E2EBFA;\n",
              "      box-shadow: 0px 1px 2px rgba(60, 64, 67, 0.3), 0px 1px 3px 1px rgba(60, 64, 67, 0.15);\n",
              "      fill: #174EA6;\n",
              "    }\n",
              "\n",
              "    .colab-df-buttons div {\n",
              "      margin-bottom: 4px;\n",
              "    }\n",
              "\n",
              "    [theme=dark] .colab-df-convert {\n",
              "      background-color: #3B4455;\n",
              "      fill: #D2E3FC;\n",
              "    }\n",
              "\n",
              "    [theme=dark] .colab-df-convert:hover {\n",
              "      background-color: #434B5C;\n",
              "      box-shadow: 0px 1px 3px 1px rgba(0, 0, 0, 0.15);\n",
              "      filter: drop-shadow(0px 1px 2px rgba(0, 0, 0, 0.3));\n",
              "      fill: #FFFFFF;\n",
              "    }\n",
              "  </style>\n",
              "\n",
              "    <script>\n",
              "      const buttonEl =\n",
              "        document.querySelector('#df-aa07b5a7-a308-42f1-ad6f-09909f1999ac button.colab-df-convert');\n",
              "      buttonEl.style.display =\n",
              "        google.colab.kernel.accessAllowed ? 'block' : 'none';\n",
              "\n",
              "      async function convertToInteractive(key) {\n",
              "        const element = document.querySelector('#df-aa07b5a7-a308-42f1-ad6f-09909f1999ac');\n",
              "        const dataTable =\n",
              "          await google.colab.kernel.invokeFunction('convertToInteractive',\n",
              "                                                    [key], {});\n",
              "        if (!dataTable) return;\n",
              "\n",
              "        const docLinkHtml = 'Like what you see? Visit the ' +\n",
              "          '<a target=\"_blank\" href=https://colab.research.google.com/notebooks/data_table.ipynb>data table notebook</a>'\n",
              "          + ' to learn more about interactive tables.';\n",
              "        element.innerHTML = '';\n",
              "        dataTable['output_type'] = 'display_data';\n",
              "        await google.colab.output.renderOutput(dataTable, element);\n",
              "        const docLink = document.createElement('div');\n",
              "        docLink.innerHTML = docLinkHtml;\n",
              "        element.appendChild(docLink);\n",
              "      }\n",
              "    </script>\n",
              "  </div>\n",
              "\n",
              "\n",
              "<div id=\"df-c106090a-8227-4883-8e81-4f04949ed02c\">\n",
              "  <button class=\"colab-df-quickchart\" onclick=\"quickchart('df-c106090a-8227-4883-8e81-4f04949ed02c')\"\n",
              "            title=\"Suggest charts\"\n",
              "            style=\"display:none;\">\n",
              "\n",
              "<svg xmlns=\"http://www.w3.org/2000/svg\" height=\"24px\"viewBox=\"0 0 24 24\"\n",
              "     width=\"24px\">\n",
              "    <g>\n",
              "        <path d=\"M19 3H5c-1.1 0-2 .9-2 2v14c0 1.1.9 2 2 2h14c1.1 0 2-.9 2-2V5c0-1.1-.9-2-2-2zM9 17H7v-7h2v7zm4 0h-2V7h2v10zm4 0h-2v-4h2v4z\"/>\n",
              "    </g>\n",
              "</svg>\n",
              "  </button>\n",
              "\n",
              "<style>\n",
              "  .colab-df-quickchart {\n",
              "      --bg-color: #E8F0FE;\n",
              "      --fill-color: #1967D2;\n",
              "      --hover-bg-color: #E2EBFA;\n",
              "      --hover-fill-color: #174EA6;\n",
              "      --disabled-fill-color: #AAA;\n",
              "      --disabled-bg-color: #DDD;\n",
              "  }\n",
              "\n",
              "  [theme=dark] .colab-df-quickchart {\n",
              "      --bg-color: #3B4455;\n",
              "      --fill-color: #D2E3FC;\n",
              "      --hover-bg-color: #434B5C;\n",
              "      --hover-fill-color: #FFFFFF;\n",
              "      --disabled-bg-color: #3B4455;\n",
              "      --disabled-fill-color: #666;\n",
              "  }\n",
              "\n",
              "  .colab-df-quickchart {\n",
              "    background-color: var(--bg-color);\n",
              "    border: none;\n",
              "    border-radius: 50%;\n",
              "    cursor: pointer;\n",
              "    display: none;\n",
              "    fill: var(--fill-color);\n",
              "    height: 32px;\n",
              "    padding: 0;\n",
              "    width: 32px;\n",
              "  }\n",
              "\n",
              "  .colab-df-quickchart:hover {\n",
              "    background-color: var(--hover-bg-color);\n",
              "    box-shadow: 0 1px 2px rgba(60, 64, 67, 0.3), 0 1px 3px 1px rgba(60, 64, 67, 0.15);\n",
              "    fill: var(--button-hover-fill-color);\n",
              "  }\n",
              "\n",
              "  .colab-df-quickchart-complete:disabled,\n",
              "  .colab-df-quickchart-complete:disabled:hover {\n",
              "    background-color: var(--disabled-bg-color);\n",
              "    fill: var(--disabled-fill-color);\n",
              "    box-shadow: none;\n",
              "  }\n",
              "\n",
              "  .colab-df-spinner {\n",
              "    border: 2px solid var(--fill-color);\n",
              "    border-color: transparent;\n",
              "    border-bottom-color: var(--fill-color);\n",
              "    animation:\n",
              "      spin 1s steps(1) infinite;\n",
              "  }\n",
              "\n",
              "  @keyframes spin {\n",
              "    0% {\n",
              "      border-color: transparent;\n",
              "      border-bottom-color: var(--fill-color);\n",
              "      border-left-color: var(--fill-color);\n",
              "    }\n",
              "    20% {\n",
              "      border-color: transparent;\n",
              "      border-left-color: var(--fill-color);\n",
              "      border-top-color: var(--fill-color);\n",
              "    }\n",
              "    30% {\n",
              "      border-color: transparent;\n",
              "      border-left-color: var(--fill-color);\n",
              "      border-top-color: var(--fill-color);\n",
              "      border-right-color: var(--fill-color);\n",
              "    }\n",
              "    40% {\n",
              "      border-color: transparent;\n",
              "      border-right-color: var(--fill-color);\n",
              "      border-top-color: var(--fill-color);\n",
              "    }\n",
              "    60% {\n",
              "      border-color: transparent;\n",
              "      border-right-color: var(--fill-color);\n",
              "    }\n",
              "    80% {\n",
              "      border-color: transparent;\n",
              "      border-right-color: var(--fill-color);\n",
              "      border-bottom-color: var(--fill-color);\n",
              "    }\n",
              "    90% {\n",
              "      border-color: transparent;\n",
              "      border-bottom-color: var(--fill-color);\n",
              "    }\n",
              "  }\n",
              "</style>\n",
              "\n",
              "  <script>\n",
              "    async function quickchart(key) {\n",
              "      const quickchartButtonEl =\n",
              "        document.querySelector('#' + key + ' button');\n",
              "      quickchartButtonEl.disabled = true;  // To prevent multiple clicks.\n",
              "      quickchartButtonEl.classList.add('colab-df-spinner');\n",
              "      try {\n",
              "        const charts = await google.colab.kernel.invokeFunction(\n",
              "            'suggestCharts', [key], {});\n",
              "      } catch (error) {\n",
              "        console.error('Error during call to suggestCharts:', error);\n",
              "      }\n",
              "      quickchartButtonEl.classList.remove('colab-df-spinner');\n",
              "      quickchartButtonEl.classList.add('colab-df-quickchart-complete');\n",
              "    }\n",
              "    (() => {\n",
              "      let quickchartButtonEl =\n",
              "        document.querySelector('#df-c106090a-8227-4883-8e81-4f04949ed02c button');\n",
              "      quickchartButtonEl.style.display =\n",
              "        google.colab.kernel.accessAllowed ? 'block' : 'none';\n",
              "    })();\n",
              "  </script>\n",
              "</div>\n",
              "\n",
              "    </div>\n",
              "  </div>\n"
            ],
            "application/vnd.google.colaboratory.intrinsic+json": {
              "type": "dataframe",
              "variable_name": "df"
            }
          },
          "metadata": {},
          "execution_count": 27
        }
      ]
    },
    {
      "cell_type": "code",
      "source": [
        "# •\tPrint column names.\n",
        "print(df.columns)"
      ],
      "metadata": {
        "colab": {
          "base_uri": "https://localhost:8080/"
        },
        "id": "dFcGJQyMctJg",
        "outputId": "d4e138c6-5f76-49b3-f747-5f74c672f76c"
      },
      "execution_count": null,
      "outputs": [
        {
          "output_type": "stream",
          "name": "stdout",
          "text": [
            "Index(['symboling', 'normalized_losses', 'make', 'fuel_type', 'aspiration',\n",
            "       'number_of_doors', 'body_style', 'drive_wheels', 'engine_location',\n",
            "       'wheel_base', 'length', 'width', 'height', 'curb_weight', 'engine_type',\n",
            "       'number_of_cylinders', 'engine_size', 'fuel_system', 'bore', 'stroke',\n",
            "       'compression_ratio', 'horsepower', 'peak_rpm', 'city_mpg',\n",
            "       'highway_mpg', 'price'],\n",
            "      dtype='object')\n"
          ]
        }
      ]
    },
    {
      "cell_type": "code",
      "source": [
        "print(df.shape)"
      ],
      "metadata": {
        "colab": {
          "base_uri": "https://localhost:8080/"
        },
        "id": "IS9Q7R8YY_oY",
        "outputId": "a8f8a182-8d3d-4bf2-a0a5-c8b9ecfec9ad"
      },
      "execution_count": null,
      "outputs": [
        {
          "output_type": "stream",
          "name": "stdout",
          "text": [
            "(201, 26)\n"
          ]
        }
      ]
    },
    {
      "cell_type": "code",
      "source": [
        "df.dtypes\n"
      ],
      "metadata": {
        "id": "aJ5AlcXtahN9",
        "colab": {
          "base_uri": "https://localhost:8080/",
          "height": 899
        },
        "outputId": "41d23681-904e-49e3-ed2c-2afab09d0c73"
      },
      "execution_count": null,
      "outputs": [
        {
          "output_type": "execute_result",
          "data": {
            "text/plain": [
              "symboling                int64\n",
              "normalized_losses        int64\n",
              "make                    object\n",
              "fuel_type               object\n",
              "aspiration              object\n",
              "number_of_doors         object\n",
              "body_style              object\n",
              "drive_wheels            object\n",
              "engine_location         object\n",
              "wheel_base             float64\n",
              "length                 float64\n",
              "width                  float64\n",
              "height                 float64\n",
              "curb_weight              int64\n",
              "engine_type             object\n",
              "number_of_cylinders     object\n",
              "engine_size              int64\n",
              "fuel_system             object\n",
              "bore                   float64\n",
              "stroke                 float64\n",
              "compression_ratio      float64\n",
              "horsepower               int64\n",
              "peak_rpm                 int64\n",
              "city_mpg                 int64\n",
              "highway_mpg              int64\n",
              "price                    int64\n",
              "dtype: object"
            ],
            "text/html": [
              "<div>\n",
              "<style scoped>\n",
              "    .dataframe tbody tr th:only-of-type {\n",
              "        vertical-align: middle;\n",
              "    }\n",
              "\n",
              "    .dataframe tbody tr th {\n",
              "        vertical-align: top;\n",
              "    }\n",
              "\n",
              "    .dataframe thead th {\n",
              "        text-align: right;\n",
              "    }\n",
              "</style>\n",
              "<table border=\"1\" class=\"dataframe\">\n",
              "  <thead>\n",
              "    <tr style=\"text-align: right;\">\n",
              "      <th></th>\n",
              "      <th>0</th>\n",
              "    </tr>\n",
              "  </thead>\n",
              "  <tbody>\n",
              "    <tr>\n",
              "      <th>symboling</th>\n",
              "      <td>int64</td>\n",
              "    </tr>\n",
              "    <tr>\n",
              "      <th>normalized_losses</th>\n",
              "      <td>int64</td>\n",
              "    </tr>\n",
              "    <tr>\n",
              "      <th>make</th>\n",
              "      <td>object</td>\n",
              "    </tr>\n",
              "    <tr>\n",
              "      <th>fuel_type</th>\n",
              "      <td>object</td>\n",
              "    </tr>\n",
              "    <tr>\n",
              "      <th>aspiration</th>\n",
              "      <td>object</td>\n",
              "    </tr>\n",
              "    <tr>\n",
              "      <th>number_of_doors</th>\n",
              "      <td>object</td>\n",
              "    </tr>\n",
              "    <tr>\n",
              "      <th>body_style</th>\n",
              "      <td>object</td>\n",
              "    </tr>\n",
              "    <tr>\n",
              "      <th>drive_wheels</th>\n",
              "      <td>object</td>\n",
              "    </tr>\n",
              "    <tr>\n",
              "      <th>engine_location</th>\n",
              "      <td>object</td>\n",
              "    </tr>\n",
              "    <tr>\n",
              "      <th>wheel_base</th>\n",
              "      <td>float64</td>\n",
              "    </tr>\n",
              "    <tr>\n",
              "      <th>length</th>\n",
              "      <td>float64</td>\n",
              "    </tr>\n",
              "    <tr>\n",
              "      <th>width</th>\n",
              "      <td>float64</td>\n",
              "    </tr>\n",
              "    <tr>\n",
              "      <th>height</th>\n",
              "      <td>float64</td>\n",
              "    </tr>\n",
              "    <tr>\n",
              "      <th>curb_weight</th>\n",
              "      <td>int64</td>\n",
              "    </tr>\n",
              "    <tr>\n",
              "      <th>engine_type</th>\n",
              "      <td>object</td>\n",
              "    </tr>\n",
              "    <tr>\n",
              "      <th>number_of_cylinders</th>\n",
              "      <td>object</td>\n",
              "    </tr>\n",
              "    <tr>\n",
              "      <th>engine_size</th>\n",
              "      <td>int64</td>\n",
              "    </tr>\n",
              "    <tr>\n",
              "      <th>fuel_system</th>\n",
              "      <td>object</td>\n",
              "    </tr>\n",
              "    <tr>\n",
              "      <th>bore</th>\n",
              "      <td>float64</td>\n",
              "    </tr>\n",
              "    <tr>\n",
              "      <th>stroke</th>\n",
              "      <td>float64</td>\n",
              "    </tr>\n",
              "    <tr>\n",
              "      <th>compression_ratio</th>\n",
              "      <td>float64</td>\n",
              "    </tr>\n",
              "    <tr>\n",
              "      <th>horsepower</th>\n",
              "      <td>int64</td>\n",
              "    </tr>\n",
              "    <tr>\n",
              "      <th>peak_rpm</th>\n",
              "      <td>int64</td>\n",
              "    </tr>\n",
              "    <tr>\n",
              "      <th>city_mpg</th>\n",
              "      <td>int64</td>\n",
              "    </tr>\n",
              "    <tr>\n",
              "      <th>highway_mpg</th>\n",
              "      <td>int64</td>\n",
              "    </tr>\n",
              "    <tr>\n",
              "      <th>price</th>\n",
              "      <td>int64</td>\n",
              "    </tr>\n",
              "  </tbody>\n",
              "</table>\n",
              "</div><br><label><b>dtype:</b> object</label>"
            ]
          },
          "metadata": {},
          "execution_count": 24
        }
      ]
    },
    {
      "cell_type": "code",
      "source": [
        "#What are the minimum & maximum price of the car & state fuel type they belong to\n",
        "#min_price = automobile[automobile['price'] == automobile['price'].min()]\n",
        "#max_price = automobile[automobile['price'] == automobile['price'].max()]\n",
        "print(f\"Minimum Price: {Min_price[['price', 'fuel_type']]}\")\n",
        "print(f\"Maximum Price: {max_price[['price', 'fuel_type']]}\")\n"
      ],
      "metadata": {
        "colab": {
          "base_uri": "https://localhost:8080/",
          "height": 193
        },
        "id": "7Fsijr406gGk",
        "outputId": "48c90065-2a1b-4cbc-ea40-5445349889fc"
      },
      "execution_count": null,
      "outputs": [
        {
          "output_type": "error",
          "ename": "NameError",
          "evalue": "name 'Min_price' is not defined",
          "traceback": [
            "\u001b[0;31m---------------------------------------------------------------------------\u001b[0m",
            "\u001b[0;31mNameError\u001b[0m                                 Traceback (most recent call last)",
            "\u001b[0;32m<ipython-input-57-af1081aa3465>\u001b[0m in \u001b[0;36m<cell line: 0>\u001b[0;34m()\u001b[0m\n\u001b[1;32m      2\u001b[0m \u001b[0;31m#min_price = automobile[automobile['price'] == automobile['price'].min()]\u001b[0m\u001b[0;34m\u001b[0m\u001b[0;34m\u001b[0m\u001b[0m\n\u001b[1;32m      3\u001b[0m \u001b[0;31m#max_price = automobile[automobile['price'] == automobile['price'].max()]\u001b[0m\u001b[0;34m\u001b[0m\u001b[0;34m\u001b[0m\u001b[0m\n\u001b[0;32m----> 4\u001b[0;31m \u001b[0mprint\u001b[0m\u001b[0;34m(\u001b[0m\u001b[0;34mf\"Minimum Price: {Min_price[['price', 'fuel_type']]}\"\u001b[0m\u001b[0;34m)\u001b[0m\u001b[0;34m\u001b[0m\u001b[0;34m\u001b[0m\u001b[0m\n\u001b[0m\u001b[1;32m      5\u001b[0m \u001b[0mprint\u001b[0m\u001b[0;34m(\u001b[0m\u001b[0;34mf\"Maximum Price: {max_price[['price', 'fuel_type']]}\"\u001b[0m\u001b[0;34m)\u001b[0m\u001b[0;34m\u001b[0m\u001b[0;34m\u001b[0m\u001b[0m\n",
            "\u001b[0;31mNameError\u001b[0m: name 'Min_price' is not defined"
          ]
        }
      ]
    },
    {
      "cell_type": "code",
      "source": [
        "#List all the unique engine types\n",
        "print(df[\"engine_type\"].unique())"
      ],
      "metadata": {
        "id": "aYiK6S_GgLyh",
        "colab": {
          "base_uri": "https://localhost:8080/"
        },
        "outputId": "75ac257d-cdf7-42cf-ffa0-a01b20dfa81a"
      },
      "execution_count": null,
      "outputs": [
        {
          "output_type": "stream",
          "name": "stdout",
          "text": [
            "['dohc' 'ohcv' 'ohc' 'l' 'rotor' 'ohcf']\n"
          ]
        }
      ]
    },
    {
      "cell_type": "code",
      "source": [
        "# •\tFind the horsepower range\n",
        "print(f\"Horsepower Range: {df['horsepower'].min()} - {df['horsepower'].max()}\")"
      ],
      "metadata": {
        "id": "4ZNkKyd4gMcR",
        "colab": {
          "base_uri": "https://localhost:8080/"
        },
        "outputId": "36f8d9f7-a46b-4613-d6da-4facbfb2eec4"
      },
      "execution_count": null,
      "outputs": [
        {
          "output_type": "stream",
          "name": "stdout",
          "text": [
            "Horsepower Range: 48 - 262\n"
          ]
        }
      ]
    },
    {
      "cell_type": "code",
      "source": [
        "# •\tWhat is the average mpg in cities & highway. Which is better?\n",
        "city_avg = df[\"city_mpg\"].mean()\n",
        "highway_avg = df[\"highway_mpg\"].mean()\n",
        "better_mpg = \"Highway\" if highway_avg > city_avg else \"City\"\n",
        "print(f\"City MPG: {city_avg}, Highway MPG: {highway_avg}. Better: {better_mpg}\")"
      ],
      "metadata": {
        "id": "i42RBhN2gMZZ",
        "colab": {
          "base_uri": "https://localhost:8080/"
        },
        "outputId": "b086622b-df4e-4905-f76e-8de602cc2a49"
      },
      "execution_count": null,
      "outputs": [
        {
          "output_type": "stream",
          "name": "stdout",
          "text": [
            "City MPG: 25.17910447761194, Highway MPG: 30.686567164179106. Better: Highway\n"
          ]
        }
      ]
    },
    {
      "cell_type": "code",
      "source": [
        "\t#What are the different Automobile makes present & which has maximum count\n",
        "\tprint(df[\"make\"].unique())\n",
        "print(df[\"make\"].value_counts())"
      ],
      "metadata": {
        "id": "FBYp3NdsgMWQ",
        "colab": {
          "base_uri": "https://localhost:8080/"
        },
        "outputId": "5f6fa3b9-0294-43e6-bb99-a722b3256733"
      },
      "execution_count": null,
      "outputs": [
        {
          "output_type": "stream",
          "name": "stdout",
          "text": [
            "['alfa-romero' 'audi' 'bmw' 'chevrolet' 'dodge' 'honda' 'isuzu' 'jaguar'\n",
            " 'mazda' 'mercedes-benz' 'mercury' 'mitsubishi' 'nissan' 'peugot'\n",
            " 'plymouth' 'porsche' 'renault' 'saab' 'subaru' 'toyota' 'volkswagen'\n",
            " 'volvo']\n",
            "make\n",
            "toyota           32\n",
            "nissan           18\n",
            "mazda            17\n",
            "mitsubishi       13\n",
            "honda            13\n",
            "subaru           12\n",
            "volkswagen       12\n",
            "volvo            11\n",
            "peugot           11\n",
            "dodge             9\n",
            "mercedes-benz     8\n",
            "bmw               8\n",
            "plymouth          7\n",
            "audi              6\n",
            "saab              6\n",
            "porsche           4\n",
            "chevrolet         3\n",
            "alfa-romero       3\n",
            "jaguar            3\n",
            "isuzu             2\n",
            "renault           2\n",
            "mercury           1\n",
            "Name: count, dtype: int64\n"
          ]
        }
      ]
    },
    {
      "cell_type": "code",
      "source": [
        "# 2. Accessing Data with .loc[]\n",
        "# Using the following DataFrame:\n",
        "# df = pd.DataFrame({\n",
        "#     \"Name\": [\"Alice\", \"Bob\", \"Charlie\", \"David\"],\n",
        "#     \"Age\": [24, 27, 22, 32],\n",
        "#     \"Score\": [85, 90, 78, 88]\n",
        "# })\n",
        "# Task\n",
        "# •\tRetrieve the row where ame == \"Charlie\"N using .loc[].\n",
        "# •\tSelect only the Age and Score columns for \"Alice\" and \"Bob\" using .loc[].\n",
        "# ________________________________________\n",
        "import pandas as pd\n",
        "df = pd.DataFrame({\n",
        "     \"Name\": [\"Alice\", \"Bob\", \"Charlie\", \"David\"],\n",
        "     \"Age\": [24, 27, 22, 32],\n",
        "     \"Score\": [85, 90, 78, 88]\n",
        "})\n",
        "print(df)\n",
        "print (df.loc[df[\"Name\"]== \"Charlie\"])\n",
        "print(df.loc[df[\"Name\"].isin([\"Alice\", \"Bob\"]), [\"Age\", \"Score\"]])"
      ],
      "metadata": {
        "colab": {
          "base_uri": "https://localhost:8080/"
        },
        "id": "Ssywjv98Gw7V",
        "outputId": "3f0e1e70-8355-478d-ad1c-d12843cb5be1"
      },
      "execution_count": null,
      "outputs": [
        {
          "output_type": "stream",
          "name": "stdout",
          "text": [
            "      Name  Age  Score\n",
            "0    Alice   24     85\n",
            "1      Bob   27     90\n",
            "2  Charlie   22     78\n",
            "3    David   32     88\n",
            "      Name  Age  Score\n",
            "2  Charlie   22     78\n",
            "   Age  Score\n",
            "0   24     85\n",
            "1   27     90\n"
          ]
        }
      ]
    },
    {
      "cell_type": "code",
      "source": [
        "# 3. Accessing Data with .iloc[]\n",
        "# Using the same DataFrame from Question 2, write code to:\n",
        "# •\tRetrieve the second row using .iloc[].\n",
        "# •\tExtract the last two rows using .iloc[].\n",
        "# ________________________________________\n",
        "import pandas as pd\n",
        "df = pd.DataFrame({\n",
        "     \"Name\": [\"Alice\", \"Bob\", \"Charlie\", \"David\"],\n",
        "     \"Age\": [24, 27, 22, 32],\n",
        "     \"Score\": [85, 90, 78, 88]\n",
        "})\n",
        "print(df)\n",
        "print(df.iloc[1])\n",
        "print(df.iloc[-2:])"
      ],
      "metadata": {
        "colab": {
          "base_uri": "https://localhost:8080/"
        },
        "id": "fx0IS9s6G2bE",
        "outputId": "47658437-0d67-4f1a-d352-2fbb22a31ed1"
      },
      "execution_count": null,
      "outputs": [
        {
          "output_type": "stream",
          "name": "stdout",
          "text": [
            "      Name  Age  Score\n",
            "0    Alice   24     85\n",
            "1      Bob   27     90\n",
            "2  Charlie   22     78\n",
            "3    David   32     88\n",
            "Name     Bob\n",
            "Age       27\n",
            "Score     90\n",
            "Name: 1, dtype: object\n",
            "      Name  Age  Score\n",
            "2  Charlie   22     78\n",
            "3    David   32     88\n"
          ]
        }
      ]
    },
    {
      "cell_type": "code",
      "source": [
        "# 4. Filtering Rows Based on Conditions\n",
        "# Using the following DataFrame:\n",
        "# df = pd.DataFrame({\n",
        "#     \"Employee\": [\"John\", \"Alice\", \"Bob\", \"David\"],\n",
        "#     \"Salary\": [50000, 60000, 55000, 65000],\n",
        "#     \"Department\": [\"IT\", \"HR\", \"IT\", \"Finance\"]\n",
        "# })\n",
        "# Task\n",
        "# Write a Pandas command to:\n",
        "# •\tSelect only IT employees.\n",
        "# •\tSelect employees with a salary greater than 55,000.\n",
        "# ________________________________________\n",
        "import pandas as pd\n",
        "df = pd.DataFrame({\n",
        "     \"Employee\": [\"John\", \"Alice\", \"Bob\", \"David\"],\n",
        "     \"Salary\": [50000, 60000, 55000, 65000],\n",
        "     \"Department\": [\"IT\", \"HR\", \"IT\", \"Finance\"]\n",
        " })\n",
        "# df.loc[df[\"Department\"] == \"IT\"]\n",
        "# df.loc[df[\"Salary\"]>55000]\n",
        "print(df[df[\"Department\"]== \"IT\"])\n",
        "print(df[df[\"Salary\"]>55000])"
      ],
      "metadata": {
        "colab": {
          "base_uri": "https://localhost:8080/"
        },
        "id": "-lIb8mkFHCtc",
        "outputId": "94865076-5323-4ca4-c9cb-357c775fc5b5"
      },
      "execution_count": null,
      "outputs": [
        {
          "output_type": "stream",
          "name": "stdout",
          "text": [
            "  Employee  Salary Department\n",
            "0     John   50000         IT\n",
            "2      Bob   55000         IT\n",
            "  Employee  Salary Department\n",
            "1    Alice   60000         HR\n",
            "3    David   65000    Finance\n"
          ]
        }
      ]
    },
    {
      "cell_type": "code",
      "source": [
        "# 5. Applying Functions to a Column\n",
        "# Using the following DataFrame:\n",
        "# df = pd.DataFrame({\n",
        "#     \"Student\": [\"A\", \"B\", \"C\", \"D\"],\n",
        "#     \"Marks\": [45, 78, 62, 90]\n",
        "# })\n",
        "# Task\n",
        "# Write a function that:\n",
        "# •\tConverts marks below 50 to \"Fail\", and 50 or above to \"Pass\".\n",
        "# •\tApply this function to the \"Marks\" column and create a new column \"Result\".\n",
        "# ________________________________________\n",
        "import pandas as pd\n",
        "df = pd.DataFrame({\n",
        "     \"Student\": [\"A\", \"B\", \"C\", \"D\"],\n",
        "     \"Marks\": [45, 78, 62, 90]\n",
        " })\n",
        "df.loc[df[\"Marks\"] >= 50, \"Result\"] = \"Pass\"\n",
        "df.loc[df[\"Marks\"] < 50, \"Result\"] = \"Fail\"\n",
        "print(df)"
      ],
      "metadata": {
        "colab": {
          "base_uri": "https://localhost:8080/"
        },
        "id": "H-xuFfwhHYG7",
        "outputId": "d63d5f47-bbc2-47d1-ba73-abb7260eba24"
      },
      "execution_count": null,
      "outputs": [
        {
          "output_type": "stream",
          "name": "stdout",
          "text": [
            "  Student  Marks Result\n",
            "0       A     45   Fail\n",
            "1       B     78   Pass\n",
            "2       C     62   Pass\n",
            "3       D     90   Pass\n"
          ]
        }
      ]
    },
    {
      "cell_type": "code",
      "source": [
        "# 6. NumPy - Creating and Reshaping Arrays\n",
        "# Write Python code to:\n",
        "# •\tCreate a NumPy array with values from 1 to 12.\n",
        "# •\tReshape it into a 3x4 matrix.\n",
        "# ________________________________________\n",
        "import numpy as np\n",
        "# n1 = np.arange(1,13)\n",
        "n1 = np.array([1,2,3,4,5,6,7,8,9,10,11,12])\n",
        "n2 = n1.reshape(3,4)\n",
        "print(n2)"
      ],
      "metadata": {
        "colab": {
          "base_uri": "https://localhost:8080/"
        },
        "id": "DbX4c9tFHnXK",
        "outputId": "fdd382af-ceb2-4b4a-95d9-1e41bb1ca359"
      },
      "execution_count": null,
      "outputs": [
        {
          "output_type": "stream",
          "name": "stdout",
          "text": [
            "[[ 1  2  3  4]\n",
            " [ 5  6  7  8]\n",
            " [ 9 10 11 12]]\n"
          ]
        }
      ]
    },
    {
      "cell_type": "code",
      "source": [
        "# 7. NumPy - Broadcasting & Element-wise Operations\n",
        "# You are given the following NumPy arrays:\n",
        "# a = np.array([1, 2, 3])\n",
        "# b = np.array([10, 20, 30])\n",
        "# Task\n",
        "# Perform:\n",
        "# 1.\tElement-wise multiplication of a and b.\n",
        "import numpy as np\n",
        "a = np.array([1, 2, 3])\n",
        "b = np.array([10, 20, 30])\n",
        "c = a*b\n",
        "print(c)\n",
        "# 2.\tAdd 5 to each element of a using broadcasting.\n",
        "print(a+5,b+5)"
      ],
      "metadata": {
        "id": "LPe924eVHv4y",
        "colab": {
          "base_uri": "https://localhost:8080/"
        },
        "outputId": "4384f3ce-c8ce-4cc2-864d-9a67e9319e7c"
      },
      "execution_count": null,
      "outputs": [
        {
          "output_type": "stream",
          "name": "stdout",
          "text": [
            "[10 40 90]\n",
            "[6 7 8] [15 25 35]\n"
          ]
        }
      ]
    },
    {
      "cell_type": "code",
      "source": [
        "# 8. Finding Maximum and Minimum Values in a NumPy Array\n",
        "# Given:\n",
        "# arr = np.array([[3, 7, 2], [4, 9, 6]])\n",
        "# Task\n",
        "# •\tFind the maximum value in the entire array.\n",
        "import numpy as np\n",
        "arr = np.array([[3, 7, 2], [4, 9, 6]])\n",
        "print(arr.max())\n",
        "# •\tFind the minimum value in each row.\n",
        "print(arr.min(axis=1))"
      ],
      "metadata": {
        "colab": {
          "base_uri": "https://localhost:8080/"
        },
        "id": "8syQJ4YJkHR2",
        "outputId": "f38e90e3-523a-4698-9569-3504c803681a"
      },
      "execution_count": null,
      "outputs": [
        {
          "output_type": "stream",
          "name": "stdout",
          "text": [
            "9\n",
            "[2 4]\n"
          ]
        }
      ]
    },
    {
      "cell_type": "code",
      "source": [
        "# 9. Grouping & Aggregation in Pandas\n",
        "# You have the following DataFrame:\n",
        "# df = pd.DataFrame({\n",
        "#     \"Department\": [\"IT\", \"HR\", \"IT\", \"Finance\", \"HR\"],\n",
        "#     \"Salary\": [70000, 50000, 80000, 60000, 52000]\n",
        "# })\n",
        "# Task\n",
        "# Write a Pandas command to:\n",
        "# •\tGroup the DataFrame by \"Department\" and calculate the average salary per department.\n",
        "# ________________________________________\n",
        "import pandas as pd\n",
        "df = pd.DataFrame({\n",
        "     \"Department\": [\"IT\", \"HR\", \"IT\", \"Finance\", \"HR\"],\n",
        "     \"Salary\": [70000, 50000, 80000, 60000, 52000]\n",
        "})\n",
        "print(df.groupby(\"Department\").mean())"
      ],
      "metadata": {
        "colab": {
          "base_uri": "https://localhost:8080/"
        },
        "id": "r0_JPPLtkHyt",
        "outputId": "f4a86a46-e8b7-4fb2-8d3c-54919cd810c4"
      },
      "execution_count": null,
      "outputs": [
        {
          "output_type": "stream",
          "name": "stdout",
          "text": [
            "             Salary\n",
            "Department         \n",
            "Finance     60000.0\n",
            "HR          51000.0\n",
            "IT          75000.0\n"
          ]
        }
      ]
    },
    {
      "cell_type": "code",
      "source": [
        "# 10. Sorting a DataFrame\n",
        "# Given the following DataFrame:\n",
        "# df = pd.DataFrame({\n",
        "#     \"City\": [\"New York\", \"Los Angeles\", \"Chicago\", \"Houston\"],\n",
        "#     \"Population\": [8419600, 3980400, 2716000, 2328000]\n",
        "# })\n",
        "# Task\n",
        "# •\tSort the DataFrame by Population in descending order.\n",
        "# ________________________________________\n",
        "import pandas as pd\n",
        "df = pd.DataFrame({\n",
        "     \"City\": [\"New York\", \"Los Angeles\", \"Chicago\", \"Houston\"],\n",
        "     \"Population\": [8419600, 3980400, 2716000, 2328000]\n",
        " })\n",
        "print(df.sort_values(\"Population\",ascending=False))"
      ],
      "metadata": {
        "colab": {
          "base_uri": "https://localhost:8080/"
        },
        "id": "B_pIE7V7mBUA",
        "outputId": "fc6a1e99-7dba-4c3b-9022-ae2442910867"
      },
      "execution_count": null,
      "outputs": [
        {
          "output_type": "stream",
          "name": "stdout",
          "text": [
            "          City  Population\n",
            "0     New York     8419600\n",
            "2      Chicago     2716000\n",
            "3      Houston     2328000\n",
            "1  Los Angeles       80400\n"
          ]
        }
      ]
    },
    {
      "cell_type": "code",
      "source": [
        "# 11. Multi-Indexing in Pandas\n",
        "# You are given the following DataFrame:\n",
        "# data = {\n",
        "#     \"Region\": [\"North\", \"North\", \"South\", \"South\", \"East\", \"East\"],\n",
        "#     \"City\": [\"A\", \"B\", \"A\", \"B\", \"A\", \"B\"],\n",
        "#     \"Sales\": [200, 150, 180, 220, 300, 250]\n",
        "# }\n",
        "# df = pd.DataFrame(data).set_index([\"Region\", \"City\"])\n",
        "# Task\n",
        "# •\tRetrieve the sales value for City A in the South Region using multi-indexing.\n",
        "# ________________________________________\n",
        "import pandas as pd\n",
        "data = {\n",
        "     \"Region\": [\"North\", \"North\", \"South\", \"South\", \"East\", \"East\"],\n",
        "     \"City\": [\"A\", \"B\", \"A\", \"B\", \"A\", \"B\"],\n",
        "     \"Sales\": [200, 150, 180, 220, 300, 250]\n",
        " }\n",
        "df = pd.DataFrame(data).set_index([\"Region\", \"City\"])\n",
        "print(df.loc[(\"South\",\"A\")])\n",
        "# df.loc[(\"South\",\"A\"), \"Sales\"]"
      ],
      "metadata": {
        "colab": {
          "base_uri": "https://localhost:8080/"
        },
        "id": "DlImFD3OmSFH",
        "outputId": "1a9839cb-1720-4d0c-ea82-dc62221702c3"
      },
      "execution_count": null,
      "outputs": [
        {
          "output_type": "stream",
          "name": "stdout",
          "text": [
            "Sales    180\n",
            "Name: (South, A), dtype: int64\n"
          ]
        }
      ]
    },
    {
      "cell_type": "code",
      "source": [
        "# 12. Creating a DataFrame from a NumPy Array\n",
        "# Generate a 5x4 NumPy array with random integers between 10 and 99 and convert it into a Pandas DataFrame with column names [\"A\", \"B\", \"C\", \"D\"].\n",
        "# ________________________________________\n",
        "import numpy as np\n",
        "arr = np.random.randint(10,99,size=(5,4))\n",
        "print(arr)\n",
        "df = pd.DataFrame(arr, columns=[\"A\",\"B\",\"C\",\"D\"])\n",
        "print(df)"
      ],
      "metadata": {
        "colab": {
          "base_uri": "https://localhost:8080/"
        },
        "id": "tGeXXA5_mX2n",
        "outputId": "c9f679e7-bc35-41aa-a510-a09011f4ac3e"
      },
      "execution_count": null,
      "outputs": [
        {
          "output_type": "stream",
          "name": "stdout",
          "text": [
            "[[34 29 29 23]\n",
            " [42 24 42 76]\n",
            " [61 94 51 10]\n",
            " [75 14 81 51]\n",
            " [12 29 59 48]]\n",
            "    A   B   C   D\n",
            "0  34  29  29  23\n",
            "1  42  24  42  76\n",
            "2  61  94  51  10\n",
            "3  75  14  81  51\n",
            "4  12  29  59  48\n"
          ]
        }
      ]
    },
    {
      "cell_type": "code",
      "source": [
        "# 13. Conditional Column Update\n",
        "# Given the following DataFrame:\n",
        "# df = pd.DataFrame({\n",
        "#     \"Student\": [\"Alice\", \"Bob\", \"Charlie\", \"David\"],\n",
        "#     \"Marks\": [88, 45, 76, 90],\n",
        "#     \"Attendance\": [85, 50, 90, 60]\n",
        "# })\n",
        "# Task\n",
        "# Write a one-liner Pandas command to set \"Marks\" to 0 for students whose \"Attendance\" is less than 60.\n",
        "# ________________________________________\n",
        "import pandas as pd\n",
        "df = pd.DataFrame({\n",
        "     \"Student\": [\"Alice\", \"Bob\", \"Charlie\", \"David\"],\n",
        "     \"Marks\": [88, 45, 76, 90],\n",
        "     \"Attendance\": [85, 50, 90, 60]\n",
        "})\n",
        "df.loc[df[\"Attendance\"]<60, \"Marks\"]=0\n",
        "print(df)"
      ],
      "metadata": {
        "colab": {
          "base_uri": "https://localhost:8080/"
        },
        "id": "oclL1dMdmdUX",
        "outputId": "423ed752-02ed-4a27-d2e3-23e322ede51f"
      },
      "execution_count": null,
      "outputs": [
        {
          "output_type": "stream",
          "name": "stdout",
          "text": [
            "   Student  Marks  Attendance\n",
            "0    Alice     88          85\n",
            "1      Bob      0          50\n",
            "2  Charlie     76          90\n",
            "3    David     90          60\n"
          ]
        }
      ]
    },
    {
      "cell_type": "code",
      "source": [
        "# 14. Advanced Filtering\n",
        "# From a CSV file \"employees.csv\" with columns:\n",
        "# EmployeeID, Department, Salary, Experience (in years).\n",
        "# Note: You should create “employees.csv” & perform the below task\n",
        "# Task\n",
        "# Write a Pandas query to:\n",
        "# •\tSelect employees from \"IT\" or \"Finance\" department\n",
        "# •\tHaving Salary > 60,000\n",
        "# •\tAND at least 5 years of experience\n",
        "import pandas as pd\n",
        "data = {\n",
        "    \"EmployeeID\": [1, 2, 3, 4, 5],\n",
        "    \"Department\": [\"IT\", \"Finance\", \"HR\", \"IT\", \"Finance\"],\n",
        "    \"Salary\": [70000, 80000, 55000, 65000, 75000],\n",
        "    \"Experience\": [6, 7, 3, 5, 8]}\n",
        "df = pd.DataFrame(data)\n",
        "\n",
        "df.to_csv(\"employees.csv\", index=False)\n",
        "\n",
        "# Re-reading the CSV file\n",
        "df = pd.read_csv('employees.csv')\n",
        "\n",
        "# Print the original dataframe\n",
        "print(df)\n",
        "\n",
        "# Employees from \"IT\" or \"Finance\" department\n",
        "print(\"Employees from \\\"IT\\\" or \\\"Finance\\\" department\")\n",
        "print(df[(df[\"Department\"].isin([\"IT\", \"Finance\"]))])\n",
        "\n",
        "# Employees having salary > 60,000\n",
        "print(\"Employees Having Salary > 60,000\")\n",
        "print(df[df[\"Salary\"] > 60000])\n",
        "\n",
        "# Employees with at least 5 years of experience\n",
        "print(\"Employees at least 5 years of experience\")\n",
        "print(df[df[\"Experience\"] >= 5])"
      ],
      "metadata": {
        "id": "1GC4whgAmhrP",
        "colab": {
          "base_uri": "https://localhost:8080/"
        },
        "outputId": "e50e81b2-6338-402d-842b-7b50d5c6585c"
      },
      "execution_count": null,
      "outputs": [
        {
          "output_type": "stream",
          "name": "stdout",
          "text": [
            "   EmployeeID Department  Salary  Experience\n",
            "0           1         IT   70000           6\n",
            "1           2    Finance   80000           7\n",
            "2           3         HR   55000           3\n",
            "3           4         IT   65000           5\n",
            "4           5    Finance   75000           8\n",
            "Employees from \"IT\" or \"Finance\" department\n",
            "   EmployeeID Department  Salary  Experience\n",
            "0           1         IT   70000           6\n",
            "1           2    Finance   80000           7\n",
            "3           4         IT   65000           5\n",
            "4           5    Finance   75000           8\n",
            "Employees Having Salary > 60,000\n",
            "   EmployeeID Department  Salary  Experience\n",
            "0           1         IT   70000           6\n",
            "1           2    Finance   80000           7\n",
            "3           4         IT   65000           5\n",
            "4           5    Finance   75000           8\n",
            "Employees at least 5 years of experience\n",
            "   EmployeeID Department  Salary  Experience\n",
            "0           1         IT   70000           6\n",
            "1           2    Finance   80000           7\n",
            "3           4         IT   65000           5\n",
            "4           5    Finance   75000           8\n"
          ]
        }
      ]
    },
    {
      "cell_type": "code",
      "source": [
        "# 15. Grouping & Aggregation with Multiple Conditions\n",
        "# Given the following DataFrame:\n",
        "# df = pd.DataFrame({\n",
        "#     \"Department\": [\"IT\", \"HR\", \"IT\", \"Finance\", \"HR\", \"Finance\", \"IT\"],\n",
        "#     \"Salary\": [70000, 50000, 80000, 60000, 52000, 72000, 65000],\n",
        "#     \"Experience\": [5, 4, 7, 3, 2, 8, 6]\n",
        "# })\n",
        "# Task Find the average salary for each department, but only for employees with at least 5 years of experience.\n",
        "# ________________________________________\n",
        "import pandas as pd\n",
        "df = pd.DataFrame({\n",
        "     \"Department\": [\"IT\", \"HR\", \"IT\", \"Finance\", \"HR\", \"Finance\", \"IT\"],\n",
        "     \"Salary\": [70000, 50000, 80000, 60000, 52000, 72000, 65000],\n",
        "     \"Experience\": [5, 4, 7, 3, 2, 8, 6]\n",
        "})\n",
        "new_df = df.loc[df[\"Experience\"]>=5]\n",
        "print(new_df.groupby(\"Department\")[\"Salary\"].mean())"
      ],
      "metadata": {
        "id": "uqRMNV7Col-B",
        "colab": {
          "base_uri": "https://localhost:8080/"
        },
        "outputId": "3467d255-6b1b-41a5-80e1-04d9931838c0"
      },
      "execution_count": null,
      "outputs": [
        {
          "output_type": "stream",
          "name": "stdout",
          "text": [
            "Department\n",
            "Finance    72000.000000\n",
            "IT         71666.666667\n",
            "Name: Salary, dtype: float64\n"
          ]
        }
      ]
    },
    {
      "cell_type": "code",
      "source": [
        "# 16. NumPy - Complex Indexing\n",
        "# Create a 5x5 NumPy array with random values between 1 and 100.\n",
        "# Write a NumPy command to:\n",
        "# •\tExtract only even numbers from the array.\n",
        "# •\tExtract values from the last row and last column.\n",
        "# •\tReplace all values greater than 50 with 0.\n",
        "# ________________________________________\n",
        "import numpy as np\n",
        "n2 = np.random.randint(1,100, size=(5,5))\n",
        "print(n2)\n",
        "print(\"only even numbers from the array\",n2[n2%2==0])\n",
        "print(\"last row and last column\", n2[-1,:],n2[:,-1])\n",
        "n3=n2.copy()\n",
        "n3[n3 > 50]=0\n",
        "print(\"replace all values greater than 50 with 0\", )\n",
        "print(n3)"
      ],
      "metadata": {
        "colab": {
          "base_uri": "https://localhost:8080/"
        },
        "id": "3_sX5eVK1PB8",
        "outputId": "01defd99-adc6-4ed7-d757-25d0b36d50c0"
      },
      "execution_count": null,
      "outputs": [
        {
          "output_type": "stream",
          "name": "stdout",
          "text": [
            "[[45 70 40 37 43]\n",
            " [ 1 55 92 79 24]\n",
            " [15 38 81 86 92]\n",
            " [18 34 64 46 23]\n",
            " [61 64 57 29 25]]\n",
            "only even numbers from the array [70 40 92 24 38 86 92 18 34 64 46 64]\n",
            "last row and last column [61 64 57 29 25] [43 24 92 23 25]\n",
            "replace all values greater than 50 with 0\n",
            "[[45  0 40 37 43]\n",
            " [ 1  0  0  0 24]\n",
            " [15 38  0  0  0]\n",
            " [18 34  0 46 23]\n",
            " [ 0  0  0 29 25]]\n"
          ]
        }
      ]
    },
    {
      "cell_type": "code",
      "source": [
        "# 17. Matrix Multiplication\n",
        "# Given the two NumPy matrices:\n",
        "# A = np.array([[2, 4], [6, 8]])\n",
        "# B = np.array([[1, 3], [5, 7]])\n",
        "# Task\n",
        "# Perform matrix multiplication and output the result.\n",
        "# ________________________________________\n",
        "import numpy as np\n",
        "A = np.array([[2, 4], [6, 8]])\n",
        "B = np.array([[1, 3], [5, 7]])\n",
        "C = np.array(A*B)\n",
        "print(C)"
      ],
      "metadata": {
        "id": "UXQq7I6h1XrD"
      },
      "execution_count": null,
      "outputs": []
    },
    {
      "cell_type": "code",
      "source": [
        "# 18. Finding Unique & Common Elements\n",
        "# You are given two NumPy arrays:\n",
        "# arr1 = np.array([10, 20, 30, 40, 50, 60])\n",
        "# arr2 = np.array([30, 40, 70, 80, 90])\n",
        "# Task\n",
        "# •\tFind the elements that are common in both arrays.\n",
        "# •\tFind the elements that are only present in arr1 but not in arr2.\n",
        "# ________________________________________\n",
        "import numpy as np\n",
        "arr1 = np.array([10, 20, 30, 40, 50, 60])\n",
        "arr2 = np.array([30, 40, 70, 80, 90])\n",
        "common_elements = np.intersect1d(arr1, arr2)\n",
        "print(common_elements)\n",
        "unique_in_arr1 = np.setdiff1d(arr1, arr2)\n",
        "print(unique_in_arr1)"
      ],
      "metadata": {
        "colab": {
          "base_uri": "https://localhost:8080/"
        },
        "id": "0X2Sh5wo1hCq",
        "outputId": "f5d80273-d650-4940-ca91-497bedc6db3e"
      },
      "execution_count": null,
      "outputs": [
        {
          "output_type": "stream",
          "name": "stdout",
          "text": [
            "[30 40]\n",
            "[10 20 50 60]\n"
          ]
        }
      ]
    },
    {
      "cell_type": "code",
      "source": [
        "# 19. Sorting & Ranking in Pandas\n",
        "# You are given the following DataFrame:\n",
        "# df = pd.DataFrame({\n",
        "#     \"Player\": [\"A\", \"B\", \"C\", \"D\"],\n",
        "#     \"Score\": [200, 450, 300, 150]\n",
        "# })\n",
        "# Task\n",
        "# • Sort the players by descending Score.\n",
        "# • Assign ranking to each player (1st, 2nd, 3rd...) without skipping numbers.\n",
        "# ________________________________________\n",
        "import pandas as pd\n",
        "df = pd.DataFrame({\n",
        "     \"Player\": [\"A\", \"B\", \"C\", \"D\"],\n",
        "     \"Score\": [200, 450, 300, 150]\n",
        "})\n",
        "df=df.sort_values(\"Score\", ascending = False)\n",
        "df[\"Rank\"]=range(1,5)\n",
        "print(df.sort_index())\n",
        "# print(X)"
      ],
      "metadata": {
        "colab": {
          "base_uri": "https://localhost:8080/"
        },
        "id": "4HLUvc1J1k_K",
        "outputId": "084203de-17a0-4082-a066-24a3b66c2c3f"
      },
      "execution_count": null,
      "outputs": [
        {
          "output_type": "stream",
          "name": "stdout",
          "text": [
            "  Player  Score  Rank\n",
            "0      A    200     3\n",
            "1      B    450     1\n",
            "2      C    300     2\n",
            "3      D    150     4\n"
          ]
        }
      ]
    },
    {
      "cell_type": "code",
      "source": [],
      "metadata": {
        "id": "S632FGTO1loq"
      },
      "execution_count": null,
      "outputs": []
    }
  ]
}