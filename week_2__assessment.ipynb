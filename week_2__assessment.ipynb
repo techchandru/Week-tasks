{
  "nbformat": 4,
  "nbformat_minor": 0,
  "metadata": {
    "colab": {
      "provenance": [],
      "include_colab_link": true
    },
    "kernelspec": {
      "name": "python3",
      "display_name": "Python 3"
    },
    "language_info": {
      "name": "python"
    }
  },
  "cells": [
    {
      "cell_type": "markdown",
      "metadata": {
        "id": "view-in-github",
        "colab_type": "text"
      },
      "source": [
        "<a href=\"https://colab.research.google.com/github/techchandru/Week-tasks/blob/main/week_2__assessment.ipynb\" target=\"_parent\"><img src=\"https://colab.research.google.com/assets/colab-badge.svg\" alt=\"Open In Colab\"/></a>"
      ]
    },
    {
      "cell_type": "code",
      "execution_count": null,
      "metadata": {
        "colab": {
          "base_uri": "https://localhost:8080/"
        },
        "id": "BUfsf_IyqVU7",
        "outputId": "9845d155-e514-4801-e5b7-c3d7690415e6"
      },
      "outputs": [
        {
          "output_type": "stream",
          "name": "stdout",
          "text": [
            "a: 20\n",
            "b: 10\n"
          ]
        }
      ],
      "source": [
        "# 1. Variables and Data Types\n",
        "# Write a Python program that swaps two numbers without using a third variable.\n",
        "a=10\n",
        "b=20\n",
        "a,b=b,a\n",
        "print(\"a:\", a)\n",
        "print(\"b:\", b)"
      ]
    },
    {
      "cell_type": "code",
      "source": [
        "# 2. Lists - Nested Lists\n",
        "# You have a nested list:\n",
        "# data = [[1, 2, 3], [4, 5, 6], [7, 8, 9]]\n",
        "# a) Extract and print the middle element from the nested list.\n",
        "# b) Flatten the list into a single list [1, 2, 3, 4, 5, 6, 7, 8, 9] without using loops.\n",
        "data = [[1,2,3],[4,5,6],[7,8,9]]\n",
        "print(data[1])\n",
        "print(data[1][1])\n",
        "singleList = data[0] + data[1] + data[2]\n",
        "print(singleList)"
      ],
      "metadata": {
        "colab": {
          "base_uri": "https://localhost:8080/"
        },
        "id": "zy3Z1RuXqrKI",
        "outputId": "1043e0af-d7c0-4709-9dc8-57f5e4905536"
      },
      "execution_count": null,
      "outputs": [
        {
          "output_type": "stream",
          "name": "stdout",
          "text": [
            "[4, 5, 6]\n",
            "5\n",
            "[1, 2, 3, 4, 5, 6, 7, 8, 9]\n"
          ]
        }
      ]
    },
    {
      "cell_type": "code",
      "source": [
        "# 3. Tuples - Tuple Unpacking\n",
        "# Given:\n",
        "# values = (100, 200, 300)\n",
        "# a) Unpack this tuple into three variables and print them.\n",
        "# b) Swap the values without using a temporary variable.\n",
        "values = (100,200,300,)\n",
        "a,b,c = values\n",
        "print(\"values\")\n",
        "print(\"a\", a)\n",
        "print(\"b:\", b)\n",
        "print(\"c:\", c)\n",
        "a, b, c = c, a, b\n",
        "print(\"after swapping\")\n",
        "print(\"a:\", a)\n",
        "print(\"b:\", b)\n",
        "print(\"c:\", c)\n"
      ],
      "metadata": {
        "id": "W0beKJP5reU4",
        "colab": {
          "base_uri": "https://localhost:8080/"
        },
        "outputId": "e177e460-c455-45a1-a29c-ec85c2c2b8a5"
      },
      "execution_count": null,
      "outputs": [
        {
          "output_type": "stream",
          "name": "stdout",
          "text": [
            "values\n",
            "a 100\n",
            "b: 200\n",
            "c: 300\n",
            "after swapping\n",
            "a: 300\n",
            "b: 100\n",
            "c: 200\n"
          ]
        }
      ]
    },
    {
      "cell_type": "code",
      "source": [
        "# 4. Dictionary - Complex Keys\n",
        "# Create a dictionary where:\n",
        "# •\tKeys are tuples representing (x, y) coordinates.\n",
        "# •\tValues are the sum of x and y.\n",
        "# Example:\n",
        "# { (1,2): 3, (3,4): 7, (5,6): 11 }\n",
        "# Write a function to retrieve the sum for a given coordinate.\n",
        "dict1 = {(1,2) : 3, (3,4) : 7, (5,6) : 11}\n",
        "print(dict1)\n",
        "x = int(input(\"Enter the x co-ordinate :\"))\n",
        "y = int(input(\"Enter the y co-ordinate :\"))\n",
        "\n",
        "def retreive_sum(a,b):\n",
        "  for key,value in dict1.items():\n",
        "    if(key ==(x,y)):\n",
        "      print(value)\n",
        "\n",
        "retreive_sum(x,y)"
      ],
      "metadata": {
        "colab": {
          "base_uri": "https://localhost:8080/"
        },
        "id": "HfUa1dyU365e",
        "outputId": "336c63e0-fa82-4927-c2b0-79a289c72be1"
      },
      "execution_count": null,
      "outputs": [
        {
          "output_type": "stream",
          "name": "stdout",
          "text": [
            "{(1, 2): 3, (3, 4): 7, (5, 6): 11}\n",
            "Enter the x co-ordinate :3\n",
            "Enter the y co-ordinate :4\n",
            "7\n"
          ]
        }
      ]
    },
    {
      "cell_type": "code",
      "source": [
        "# 5. Functions - Nested Functions\n",
        "# Write a function outer_function(a, b) that:\n",
        "# • Contains an inner function to calculate a² + b².\n",
        "# • Returns the result.\n",
        "# Call outer_function(3, 4) and print the result.\n",
        "# ________________________________________\n",
        "def outer_function(a, b):\n",
        "    def inner_function():\n",
        "        return a**2 + b**2\n",
        "    return inner_function()\n",
        "\n",
        "print(outer_function(3, 4))"
      ],
      "metadata": {
        "id": "bwnlMA-e9_pq",
        "colab": {
          "base_uri": "https://localhost:8080/"
        },
        "outputId": "c613f3e0-860f-464b-be1e-2d860f0e646d"
      },
      "execution_count": null,
      "outputs": [
        {
          "output_type": "stream",
          "name": "stdout",
          "text": [
            "25\n"
          ]
        }
      ]
    },
    {
      "cell_type": "code",
      "source": [
        "# 6. Functions - Lambda & Map\n",
        "# You are given a list:\n",
        "# numbers = [1, 2, 3, 4, 5]\n",
        "# Use a lambda function and map() to generate a list where each number is cubed.\n",
        "# ________________________________________\n",
        "numbers = [1, 2, 3, 4, 5]\n",
        "cubed_numbers = list(map(lambda x: x**3, numbers))\n",
        "print(cubed_numbers)"
      ],
      "metadata": {
        "id": "CIG2OVveUCSB",
        "colab": {
          "base_uri": "https://localhost:8080/"
        },
        "outputId": "f92e8253-fc11-4a0c-b8a5-4ae4df79dab6"
      },
      "execution_count": null,
      "outputs": [
        {
          "output_type": "stream",
          "name": "stdout",
          "text": [
            "[1, 8, 27, 64, 125]\n"
          ]
        }
      ]
    },
    {
      "cell_type": "markdown",
      "source": [],
      "metadata": {
        "id": "WZkXyb0EUBE8"
      }
    },
    {
      "cell_type": "code",
      "source": [
        "#7. Functions - Recursion\n",
        "# #Write a recursive function to\n",
        "# #calculate the sum of digits of a given number.\n",
        "# Example:\n",
        "# Input: 1234\n",
        "# Output: 10\n",
        "# (1+2+3+4)##\n",
        "def sum(n):\n",
        "  if n == 0:\n",
        "    return 0\n",
        "  return n % 10 + sum(n // 10)\n",
        "\n",
        "n = int(input(\"Enter the number :\"))\n",
        "print(\"Sum of digits : \",sum(n))"
      ],
      "metadata": {
        "id": "Ph-KTsBdUFp_",
        "colab": {
          "base_uri": "https://localhost:8080/"
        },
        "outputId": "a2d41888-b734-496f-b3ab-36d053ad3fd9"
      },
      "execution_count": null,
      "outputs": [
        {
          "output_type": "stream",
          "name": "stdout",
          "text": [
            "Enter the number :1234\n",
            "Sum of digits :  10\n"
          ]
        }
      ]
    },
    {
      "cell_type": "code",
      "source": [
        "# 8. List Comprehensions\n",
        "# Generate a list of all numbers between 1 and 100 that:\n",
        "# •\tAre divisible by 5\n",
        "# •\tBut not by 3\n",
        "# Use list comprehension.\n",
        "# ________________________________________\n",
        "result = [x for x in range(1, 101) if x % 5 == 0 and x % 3 != 0]\n",
        "print(result)"
      ],
      "metadata": {
        "colab": {
          "base_uri": "https://localhost:8080/"
        },
        "id": "m-ID8239UuHC",
        "outputId": "5ce08d3b-95ac-40fe-a2c3-874609c06ab2"
      },
      "execution_count": null,
      "outputs": [
        {
          "output_type": "stream",
          "name": "stdout",
          "text": [
            "[5, 10, 20, 25, 35, 40, 50, 55, 65, 70, 80, 85, 95, 100]\n"
          ]
        }
      ]
    },
    {
      "cell_type": "code",
      "source": [
        "# 9. Dictionary - Sorting by Values\n",
        "# Given:\n",
        "# scores = {\"Alice\": 90, \"Bob\": 85, \"Eve\": 92}\n",
        "# Sort this dictionary by values in descending order and print the result.\n",
        "# ________________________________________\n",
        "scores = {\"Alice\": 90, \"Bob\": 85, \"Eve\": 92}\n",
        "sorted_scores = dict(sorted(scores.items(), key=lambda item: item[1], reverse=True))\n",
        "print(sorted_scores)"
      ],
      "metadata": {
        "colab": {
          "base_uri": "https://localhost:8080/"
        },
        "id": "xq-EsbYFVW2A",
        "outputId": "471da02e-86ee-4f64-b3d8-c22804bfb2ac"
      },
      "execution_count": null,
      "outputs": [
        {
          "output_type": "stream",
          "name": "stdout",
          "text": [
            "{'Eve': 92, 'Alice': 90, 'Bob': 85}\n"
          ]
        }
      ]
    },
    {
      "cell_type": "code",
      "source": [
        "# 10. Sets - Unique Characters\n",
        "# Write a Python function that takes a string as input and returns:\n",
        "# • A set of unique characters in the string.\n",
        "# • The number of unique characters.\n",
        "# Example:\n",
        "# Input: \"hello\"\n",
        "# Output: {'h', 'e', 'l', 'o'}, 4\n",
        "# ________________________________________\n",
        "def unique_characters(s):\n",
        "    unique_chars = set(s)\n",
        "\n",
        "    return unique_chars, len(unique_chars)\n",
        "\n",
        "input_string = \"hello\"\n",
        "unique_chars, count = unique_characters(input_string)\n",
        "\n",
        "print(unique_chars, count)"
      ],
      "metadata": {
        "colab": {
          "base_uri": "https://localhost:8080/"
        },
        "id": "ThcOk1RmVim4",
        "outputId": "cccce2bc-ffe4-4366-c8e3-45cf20792114"
      },
      "execution_count": null,
      "outputs": [
        {
          "output_type": "stream",
          "name": "stdout",
          "text": [
            "{'e', 'h', 'o', 'l'} 4\n"
          ]
        }
      ]
    },
    {
      "cell_type": "code",
      "source": [],
      "metadata": {
        "id": "-sQmRir2Vxw_"
      },
      "execution_count": null,
      "outputs": []
    },
    {
      "cell_type": "code",
      "source": [
        "# 12. Dictionary - Reverse Key-Value Mapping\n",
        "# Given a dictionary:\n",
        "# data = {\"A\": 1, \"B\": 2, \"C\": 3}\n",
        "# Write a program to swap keys and values:\n",
        "# Output: {1: \"A\", 2: \"B\", 3: \"C\"}\n",
        "# ________________________________________\n",
        "data = {\"A\":1,\"B\":2,\"C\":3}\n",
        "swapped_data = {j:i for i,j in data.items()}\n",
        "print(swapped_data )"
      ],
      "metadata": {
        "colab": {
          "base_uri": "https://localhost:8080/"
        },
        "id": "xJHi-rBLVyc_",
        "outputId": "68c916b2-c0ce-4b91-b424-3ef123e404d9"
      },
      "execution_count": null,
      "outputs": [
        {
          "output_type": "stream",
          "name": "stdout",
          "text": [
            "{1: 'A', 2: 'B', 3: 'C'}\n"
          ]
        }
      ]
    },
    {
      "cell_type": "code",
      "source": [
        " # 13. Functions - Multiple Return Values\n",
        "#Write a function that takes two numbers as input and returns:\n",
        "# 1.\tTheir sum\n",
        "# 2.\tTheir difference\n",
        "# 3.\tTheir product\n",
        "# 4.\tTheir quotient\n",
        "# Print all four results\n",
        "a=int(input(\"enter first value\"));\n",
        "b=int(input(\"enter second value\"));\n",
        "sum=a+b;\n",
        "print(\"sum=\",sum);\n",
        "dif=a-b;\n",
        "print(\"difference =\", dif);\n",
        "pro=a*b;\n",
        "print(\"product =\",pro);\n"
      ],
      "metadata": {
        "colab": {
          "base_uri": "https://localhost:8080/"
        },
        "id": "KEresHRLV_yn",
        "outputId": "fb523b1b-5002-4b2a-9417-81667b1b3480"
      },
      "execution_count": null,
      "outputs": [
        {
          "output_type": "stream",
          "name": "stdout",
          "text": [
            "enter first value2\n",
            "enter second value3\n",
            "sum= 5\n",
            "difference = -1\n",
            "product = 6\n"
          ]
        }
      ]
    },
    {
      "cell_type": "code",
      "source": [
        "# 14. List - Finding Second Largest Number\n",
        "# Write a function to find the second largest number in a given list without using sort().\n",
        "# Example:\n",
        "# Input: [10, 20, 4, 45, 99]\n",
        "# Output: 45\n",
        "# ________________________________________\n",
        "\n",
        "def second_largest(lst):\n",
        "    first, second = float('-inf'), float('-inf')\n",
        "\n",
        "    for num in lst:\n",
        "        if num > first:\n",
        "            second, first = first, num\n",
        "        elif num > second and num != first:\n",
        "            second = num\n",
        "\n",
        "    return second if second != float('-inf') else None\n",
        "\n",
        "# Example\n",
        "numbers = [10, 20, 4, 45, 99]\n",
        "print(second_largest(numbers))"
      ],
      "metadata": {
        "id": "kk-UwpN5EX2o",
        "outputId": "4803b328-b56a-4825-903a-130848d3c646",
        "colab": {
          "base_uri": "https://localhost:8080/"
        }
      },
      "execution_count": null,
      "outputs": [
        {
          "output_type": "stream",
          "name": "stdout",
          "text": [
            "45\n"
          ]
        }
      ]
    },
    {
      "cell_type": "code",
      "source": [
        "# 15. List - Pair Sum Problem\n",
        "# Given a list of numbers and a target sum, find all pairs in the list that add up to the target.\n",
        "# Example:\n",
        "# Input: [2, 4, 3, 7, 1, 9], Target: 10\n",
        "# Output: [(3, 7), (1, 9)]\n",
        "# ________________________________________\n",
        "\n",
        "def find_pairs(lst, target):\n",
        "    pairs = []\n",
        "    seen = set()\n",
        "\n",
        "    for num in lst:\n",
        "        complement = target - num\n",
        "        if complement in seen:\n",
        "            pairs.append((complement, num))\n",
        "        seen.add(num)\n",
        "\n",
        "    return pairs\n",
        "\n",
        "# Example\n",
        "numbers = [2, 4, 3, 7, 1, 9]\n",
        "target = 10\n",
        "print(find_pairs(numbers, target))"
      ],
      "metadata": {
        "colab": {
          "base_uri": "https://localhost:8080/"
        },
        "id": "E27WflR2aq24",
        "outputId": "37bbef1e-7a04-439d-80ba-54c024735e21"
      },
      "execution_count": null,
      "outputs": [
        {
          "output_type": "stream",
          "name": "stdout",
          "text": [
            "[(3, 7), (1, 9)]\n"
          ]
        }
      ]
    },
    {
      "cell_type": "code",
      "source": [
        "# 16. Pandas - Filtering DataFrame\n",
        "# You are given the following Pandas DataFrame:\n",
        "# import pandas as pd\n",
        "# df = pd.DataFrame({\n",
        "#     \"Name\": [\"Alice\", \"Bob\", \"Charlie\", \"David\"],\n",
        "#     \"Age\": [24, 27, 22, 32],\n",
        "#     \"Score\": [85, 90, 78, 88]\n",
        "# })\n",
        "# Write a one-liner to filter and display only rows where Age is greater than 25.\n",
        "# ________________________________________\n",
        "import pandas as pd\n",
        "df = pd.DataFrame({\n",
        "    \"Name\": [\"Alice\", \"Bob\", \"Charlie\", \"David\"],\n",
        "        \"Age\": [24, 27, 22, 32],\n",
        "            \"Score\": [85, 90, 78, 88]\n",
        "            })\n",
        "            # print(df)\n",
        "df1 = df[df['Age'] >= 25]\n",
        "display(df1)"
      ],
      "metadata": {
        "colab": {
          "base_uri": "https://localhost:8080/",
          "height": 125
        },
        "id": "5De8nSS-avkP",
        "outputId": "70e54ec1-512f-4106-e59c-b79faadefce7"
      },
      "execution_count": null,
      "outputs": [
        {
          "output_type": "display_data",
          "data": {
            "text/plain": [
              "    Name  Age  Score\n",
              "1    Bob   27     90\n",
              "3  David   32     88"
            ],
            "text/html": [
              "\n",
              "  <div id=\"df-b7053a04-69d2-436c-9cc0-4816dc0d0649\" class=\"colab-df-container\">\n",
              "    <div>\n",
              "<style scoped>\n",
              "    .dataframe tbody tr th:only-of-type {\n",
              "        vertical-align: middle;\n",
              "    }\n",
              "\n",
              "    .dataframe tbody tr th {\n",
              "        vertical-align: top;\n",
              "    }\n",
              "\n",
              "    .dataframe thead th {\n",
              "        text-align: right;\n",
              "    }\n",
              "</style>\n",
              "<table border=\"1\" class=\"dataframe\">\n",
              "  <thead>\n",
              "    <tr style=\"text-align: right;\">\n",
              "      <th></th>\n",
              "      <th>Name</th>\n",
              "      <th>Age</th>\n",
              "      <th>Score</th>\n",
              "    </tr>\n",
              "  </thead>\n",
              "  <tbody>\n",
              "    <tr>\n",
              "      <th>1</th>\n",
              "      <td>Bob</td>\n",
              "      <td>27</td>\n",
              "      <td>90</td>\n",
              "    </tr>\n",
              "    <tr>\n",
              "      <th>3</th>\n",
              "      <td>David</td>\n",
              "      <td>32</td>\n",
              "      <td>88</td>\n",
              "    </tr>\n",
              "  </tbody>\n",
              "</table>\n",
              "</div>\n",
              "    <div class=\"colab-df-buttons\">\n",
              "\n",
              "  <div class=\"colab-df-container\">\n",
              "    <button class=\"colab-df-convert\" onclick=\"convertToInteractive('df-b7053a04-69d2-436c-9cc0-4816dc0d0649')\"\n",
              "            title=\"Convert this dataframe to an interactive table.\"\n",
              "            style=\"display:none;\">\n",
              "\n",
              "  <svg xmlns=\"http://www.w3.org/2000/svg\" height=\"24px\" viewBox=\"0 -960 960 960\">\n",
              "    <path d=\"M120-120v-720h720v720H120Zm60-500h600v-160H180v160Zm220 220h160v-160H400v160Zm0 220h160v-160H400v160ZM180-400h160v-160H180v160Zm440 0h160v-160H620v160ZM180-180h160v-160H180v160Zm440 0h160v-160H620v160Z\"/>\n",
              "  </svg>\n",
              "    </button>\n",
              "\n",
              "  <style>\n",
              "    .colab-df-container {\n",
              "      display:flex;\n",
              "      gap: 12px;\n",
              "    }\n",
              "\n",
              "    .colab-df-convert {\n",
              "      background-color: #E8F0FE;\n",
              "      border: none;\n",
              "      border-radius: 50%;\n",
              "      cursor: pointer;\n",
              "      display: none;\n",
              "      fill: #1967D2;\n",
              "      height: 32px;\n",
              "      padding: 0 0 0 0;\n",
              "      width: 32px;\n",
              "    }\n",
              "\n",
              "    .colab-df-convert:hover {\n",
              "      background-color: #E2EBFA;\n",
              "      box-shadow: 0px 1px 2px rgba(60, 64, 67, 0.3), 0px 1px 3px 1px rgba(60, 64, 67, 0.15);\n",
              "      fill: #174EA6;\n",
              "    }\n",
              "\n",
              "    .colab-df-buttons div {\n",
              "      margin-bottom: 4px;\n",
              "    }\n",
              "\n",
              "    [theme=dark] .colab-df-convert {\n",
              "      background-color: #3B4455;\n",
              "      fill: #D2E3FC;\n",
              "    }\n",
              "\n",
              "    [theme=dark] .colab-df-convert:hover {\n",
              "      background-color: #434B5C;\n",
              "      box-shadow: 0px 1px 3px 1px rgba(0, 0, 0, 0.15);\n",
              "      filter: drop-shadow(0px 1px 2px rgba(0, 0, 0, 0.3));\n",
              "      fill: #FFFFFF;\n",
              "    }\n",
              "  </style>\n",
              "\n",
              "    <script>\n",
              "      const buttonEl =\n",
              "        document.querySelector('#df-b7053a04-69d2-436c-9cc0-4816dc0d0649 button.colab-df-convert');\n",
              "      buttonEl.style.display =\n",
              "        google.colab.kernel.accessAllowed ? 'block' : 'none';\n",
              "\n",
              "      async function convertToInteractive(key) {\n",
              "        const element = document.querySelector('#df-b7053a04-69d2-436c-9cc0-4816dc0d0649');\n",
              "        const dataTable =\n",
              "          await google.colab.kernel.invokeFunction('convertToInteractive',\n",
              "                                                    [key], {});\n",
              "        if (!dataTable) return;\n",
              "\n",
              "        const docLinkHtml = 'Like what you see? Visit the ' +\n",
              "          '<a target=\"_blank\" href=https://colab.research.google.com/notebooks/data_table.ipynb>data table notebook</a>'\n",
              "          + ' to learn more about interactive tables.';\n",
              "        element.innerHTML = '';\n",
              "        dataTable['output_type'] = 'display_data';\n",
              "        await google.colab.output.renderOutput(dataTable, element);\n",
              "        const docLink = document.createElement('div');\n",
              "        docLink.innerHTML = docLinkHtml;\n",
              "        element.appendChild(docLink);\n",
              "      }\n",
              "    </script>\n",
              "  </div>\n",
              "\n",
              "\n",
              "<div id=\"df-16abc707-60fa-4254-ad42-2efba5bf1aa9\">\n",
              "  <button class=\"colab-df-quickchart\" onclick=\"quickchart('df-16abc707-60fa-4254-ad42-2efba5bf1aa9')\"\n",
              "            title=\"Suggest charts\"\n",
              "            style=\"display:none;\">\n",
              "\n",
              "<svg xmlns=\"http://www.w3.org/2000/svg\" height=\"24px\"viewBox=\"0 0 24 24\"\n",
              "     width=\"24px\">\n",
              "    <g>\n",
              "        <path d=\"M19 3H5c-1.1 0-2 .9-2 2v14c0 1.1.9 2 2 2h14c1.1 0 2-.9 2-2V5c0-1.1-.9-2-2-2zM9 17H7v-7h2v7zm4 0h-2V7h2v10zm4 0h-2v-4h2v4z\"/>\n",
              "    </g>\n",
              "</svg>\n",
              "  </button>\n",
              "\n",
              "<style>\n",
              "  .colab-df-quickchart {\n",
              "      --bg-color: #E8F0FE;\n",
              "      --fill-color: #1967D2;\n",
              "      --hover-bg-color: #E2EBFA;\n",
              "      --hover-fill-color: #174EA6;\n",
              "      --disabled-fill-color: #AAA;\n",
              "      --disabled-bg-color: #DDD;\n",
              "  }\n",
              "\n",
              "  [theme=dark] .colab-df-quickchart {\n",
              "      --bg-color: #3B4455;\n",
              "      --fill-color: #D2E3FC;\n",
              "      --hover-bg-color: #434B5C;\n",
              "      --hover-fill-color: #FFFFFF;\n",
              "      --disabled-bg-color: #3B4455;\n",
              "      --disabled-fill-color: #666;\n",
              "  }\n",
              "\n",
              "  .colab-df-quickchart {\n",
              "    background-color: var(--bg-color);\n",
              "    border: none;\n",
              "    border-radius: 50%;\n",
              "    cursor: pointer;\n",
              "    display: none;\n",
              "    fill: var(--fill-color);\n",
              "    height: 32px;\n",
              "    padding: 0;\n",
              "    width: 32px;\n",
              "  }\n",
              "\n",
              "  .colab-df-quickchart:hover {\n",
              "    background-color: var(--hover-bg-color);\n",
              "    box-shadow: 0 1px 2px rgba(60, 64, 67, 0.3), 0 1px 3px 1px rgba(60, 64, 67, 0.15);\n",
              "    fill: var(--button-hover-fill-color);\n",
              "  }\n",
              "\n",
              "  .colab-df-quickchart-complete:disabled,\n",
              "  .colab-df-quickchart-complete:disabled:hover {\n",
              "    background-color: var(--disabled-bg-color);\n",
              "    fill: var(--disabled-fill-color);\n",
              "    box-shadow: none;\n",
              "  }\n",
              "\n",
              "  .colab-df-spinner {\n",
              "    border: 2px solid var(--fill-color);\n",
              "    border-color: transparent;\n",
              "    border-bottom-color: var(--fill-color);\n",
              "    animation:\n",
              "      spin 1s steps(1) infinite;\n",
              "  }\n",
              "\n",
              "  @keyframes spin {\n",
              "    0% {\n",
              "      border-color: transparent;\n",
              "      border-bottom-color: var(--fill-color);\n",
              "      border-left-color: var(--fill-color);\n",
              "    }\n",
              "    20% {\n",
              "      border-color: transparent;\n",
              "      border-left-color: var(--fill-color);\n",
              "      border-top-color: var(--fill-color);\n",
              "    }\n",
              "    30% {\n",
              "      border-color: transparent;\n",
              "      border-left-color: var(--fill-color);\n",
              "      border-top-color: var(--fill-color);\n",
              "      border-right-color: var(--fill-color);\n",
              "    }\n",
              "    40% {\n",
              "      border-color: transparent;\n",
              "      border-right-color: var(--fill-color);\n",
              "      border-top-color: var(--fill-color);\n",
              "    }\n",
              "    60% {\n",
              "      border-color: transparent;\n",
              "      border-right-color: var(--fill-color);\n",
              "    }\n",
              "    80% {\n",
              "      border-color: transparent;\n",
              "      border-right-color: var(--fill-color);\n",
              "      border-bottom-color: var(--fill-color);\n",
              "    }\n",
              "    90% {\n",
              "      border-color: transparent;\n",
              "      border-bottom-color: var(--fill-color);\n",
              "    }\n",
              "  }\n",
              "</style>\n",
              "\n",
              "  <script>\n",
              "    async function quickchart(key) {\n",
              "      const quickchartButtonEl =\n",
              "        document.querySelector('#' + key + ' button');\n",
              "      quickchartButtonEl.disabled = true;  // To prevent multiple clicks.\n",
              "      quickchartButtonEl.classList.add('colab-df-spinner');\n",
              "      try {\n",
              "        const charts = await google.colab.kernel.invokeFunction(\n",
              "            'suggestCharts', [key], {});\n",
              "      } catch (error) {\n",
              "        console.error('Error during call to suggestCharts:', error);\n",
              "      }\n",
              "      quickchartButtonEl.classList.remove('colab-df-spinner');\n",
              "      quickchartButtonEl.classList.add('colab-df-quickchart-complete');\n",
              "    }\n",
              "    (() => {\n",
              "      let quickchartButtonEl =\n",
              "        document.querySelector('#df-16abc707-60fa-4254-ad42-2efba5bf1aa9 button');\n",
              "      quickchartButtonEl.style.display =\n",
              "        google.colab.kernel.accessAllowed ? 'block' : 'none';\n",
              "    })();\n",
              "  </script>\n",
              "</div>\n",
              "\n",
              "  <div id=\"id_bd14ed26-88a1-4f24-ba13-781fc58c99fe\">\n",
              "    <style>\n",
              "      .colab-df-generate {\n",
              "        background-color: #E8F0FE;\n",
              "        border: none;\n",
              "        border-radius: 50%;\n",
              "        cursor: pointer;\n",
              "        display: none;\n",
              "        fill: #1967D2;\n",
              "        height: 32px;\n",
              "        padding: 0 0 0 0;\n",
              "        width: 32px;\n",
              "      }\n",
              "\n",
              "      .colab-df-generate:hover {\n",
              "        background-color: #E2EBFA;\n",
              "        box-shadow: 0px 1px 2px rgba(60, 64, 67, 0.3), 0px 1px 3px 1px rgba(60, 64, 67, 0.15);\n",
              "        fill: #174EA6;\n",
              "      }\n",
              "\n",
              "      [theme=dark] .colab-df-generate {\n",
              "        background-color: #3B4455;\n",
              "        fill: #D2E3FC;\n",
              "      }\n",
              "\n",
              "      [theme=dark] .colab-df-generate:hover {\n",
              "        background-color: #434B5C;\n",
              "        box-shadow: 0px 1px 3px 1px rgba(0, 0, 0, 0.15);\n",
              "        filter: drop-shadow(0px 1px 2px rgba(0, 0, 0, 0.3));\n",
              "        fill: #FFFFFF;\n",
              "      }\n",
              "    </style>\n",
              "    <button class=\"colab-df-generate\" onclick=\"generateWithVariable('df1')\"\n",
              "            title=\"Generate code using this dataframe.\"\n",
              "            style=\"display:none;\">\n",
              "\n",
              "  <svg xmlns=\"http://www.w3.org/2000/svg\" height=\"24px\"viewBox=\"0 0 24 24\"\n",
              "       width=\"24px\">\n",
              "    <path d=\"M7,19H8.4L18.45,9,17,7.55,7,17.6ZM5,21V16.75L18.45,3.32a2,2,0,0,1,2.83,0l1.4,1.43a1.91,1.91,0,0,1,.58,1.4,1.91,1.91,0,0,1-.58,1.4L9.25,21ZM18.45,9,17,7.55Zm-12,3A5.31,5.31,0,0,0,4.9,8.1,5.31,5.31,0,0,0,1,6.5,5.31,5.31,0,0,0,4.9,4.9,5.31,5.31,0,0,0,6.5,1,5.31,5.31,0,0,0,8.1,4.9,5.31,5.31,0,0,0,12,6.5,5.46,5.46,0,0,0,6.5,12Z\"/>\n",
              "  </svg>\n",
              "    </button>\n",
              "    <script>\n",
              "      (() => {\n",
              "      const buttonEl =\n",
              "        document.querySelector('#id_bd14ed26-88a1-4f24-ba13-781fc58c99fe button.colab-df-generate');\n",
              "      buttonEl.style.display =\n",
              "        google.colab.kernel.accessAllowed ? 'block' : 'none';\n",
              "\n",
              "      buttonEl.onclick = () => {\n",
              "        google.colab.notebook.generateWithVariable('df1');\n",
              "      }\n",
              "      })();\n",
              "    </script>\n",
              "  </div>\n",
              "\n",
              "    </div>\n",
              "  </div>\n"
            ],
            "application/vnd.google.colaboratory.intrinsic+json": {
              "type": "dataframe",
              "variable_name": "df1",
              "summary": "{\n  \"name\": \"df1\",\n  \"rows\": 2,\n  \"fields\": [\n    {\n      \"column\": \"Name\",\n      \"properties\": {\n        \"dtype\": \"string\",\n        \"num_unique_values\": 2,\n        \"samples\": [\n          \"David\",\n          \"Bob\"\n        ],\n        \"semantic_type\": \"\",\n        \"description\": \"\"\n      }\n    },\n    {\n      \"column\": \"Age\",\n      \"properties\": {\n        \"dtype\": \"number\",\n        \"std\": 3,\n        \"min\": 27,\n        \"max\": 32,\n        \"num_unique_values\": 2,\n        \"samples\": [\n          32,\n          27\n        ],\n        \"semantic_type\": \"\",\n        \"description\": \"\"\n      }\n    },\n    {\n      \"column\": \"Score\",\n      \"properties\": {\n        \"dtype\": \"number\",\n        \"std\": 1,\n        \"min\": 88,\n        \"max\": 90,\n        \"num_unique_values\": 2,\n        \"samples\": [\n          88,\n          90\n        ],\n        \"semantic_type\": \"\",\n        \"description\": \"\"\n      }\n    }\n  ]\n}"
            }
          },
          "metadata": {}
        }
      ]
    },
    {
      "cell_type": "code",
      "source": [
        "# 17. Pandas - Group By Operation\n",
        "# You have the following DataFrame:\n",
        "# df = pd.DataFrame({\n",
        "#     \"Department\": [\"IT\", \"HR\", \"IT\", \"Finance\", \"HR\"],\n",
        "#     \"Salary\": [70000, 50000, 80000, 60000, 52000]\n",
        "# })\n",
        "# Write a Pandas command to calculate the average salary per department.\n",
        "import pandas as pd\n",
        "\n",
        "df = pd.DataFrame({\n",
        "    \"Department\": [\"IT\", \"HR\", \"IT\", \"Finance\", \"HR\"],\n",
        "    \"Salary\": [70000, 50000, 80000, 60000, 52000]\n",
        "})\n",
        "\n",
        "average_salary = df.groupby(\"Department\")[\"Salary\"].mean()\n",
        "print(average_salary)\n",
        "\n"
      ],
      "metadata": {
        "id": "2o9bdWe7assg",
        "colab": {
          "base_uri": "https://localhost:8080/"
        },
        "outputId": "a185fc15-ff17-41c2-bfde-1c5b0e375db7"
      },
      "execution_count": 6,
      "outputs": [
        {
          "output_type": "stream",
          "name": "stdout",
          "text": [
            "Department\n",
            "Finance    60000.0\n",
            "HR         51000.0\n",
            "IT         75000.0\n",
            "Name: Salary, dtype: float64\n"
          ]
        }
      ]
    },
    {
      "cell_type": "code",
      "source": [
        "# 18. NumPy - Create a 5x5 Matrix\n",
        "# Write a program to create a 5x5 NumPy matrix where:\n",
        "# •\tThe diagonal elements are 1\n",
        "# •\tAll other elements are 0\n",
        "# Example:\n",
        "# Output:\n",
        "# [[1 0 0 0 0]\n",
        "#  [0 1 0 0 0]\n",
        "#  [0 0 1 0 0]\n",
        "#  [0 0 0 1 0]\n",
        "#  [0 0 0 0 1]]\n",
        "# ________________________________________\n",
        "\n",
        "import numpy as np\n",
        "\n",
        "# Create a 5x5 identity matrix\n",
        "matrix = np.eye(5)\n",
        "\n",
        "# Print the matrix\n",
        "print(matrix)"
      ],
      "metadata": {
        "colab": {
          "base_uri": "https://localhost:8080/"
        },
        "id": "7dBQ449sqrIy",
        "outputId": "4fc005ce-fd40-47d0-83e0-e3d30474acb3"
      },
      "execution_count": 7,
      "outputs": [
        {
          "output_type": "stream",
          "name": "stdout",
          "text": [
            "[[1. 0. 0. 0. 0.]\n",
            " [0. 1. 0. 0. 0.]\n",
            " [0. 0. 1. 0. 0.]\n",
            " [0. 0. 0. 1. 0.]\n",
            " [0. 0. 0. 0. 1.]]\n"
          ]
        }
      ]
    },
    {
      "cell_type": "code",
      "source": [
        "# 19. NumPy - Element-wise Operations\n",
        "# Given two NumPy arrays:\n",
        "# import numpy as np\n",
        "# a = np.array([1, 2, 3, 4])\n",
        "# b = np.array([10, 20, 30, 40])\n",
        "# Perform element-wise:\n",
        "# 1.\tAddition\n",
        "# 2.\tMultiplication\n",
        "# 3.\tPower (a^b)\n",
        "# Print the results.\n",
        "# ________________________________________\n",
        "\n",
        "import numpy as np\n",
        "\n",
        "# Given arrays\n",
        "a = np.array([1, 2, 3, 4])\n",
        "b = np.array([10, 20, 30, 40])\n",
        "\n",
        "# Element-wise operations\n",
        "addition = a + b\n",
        "multiplication = a * b\n",
        "power = a ** b\n",
        "\n",
        "# Print results\n",
        "print(\"Addition:\\n\", addition)\n",
        "print(\"Multiplication:\\n\", multiplication)\n",
        "print(\"Power:\\n\", power)"
      ],
      "metadata": {
        "colab": {
          "base_uri": "https://localhost:8080/"
        },
        "id": "wdlGXVCqqxhN",
        "outputId": "7afa8768-84f6-4737-caf9-2a8f008cf77b"
      },
      "execution_count": 8,
      "outputs": [
        {
          "output_type": "stream",
          "name": "stdout",
          "text": [
            "Addition:\n",
            " [11 22 33 44]\n",
            "Multiplication:\n",
            " [ 10  40  90 160]\n",
            "Power:\n",
            " [              1         1048576 205891132094649               0]\n"
          ]
        }
      ]
    },
    {
      "cell_type": "code",
      "source": [
        "# 20. NumPy - Find Index of Maximum Value\n",
        "# Given:\n",
        "# arr = np.array([10, 25, 39, 50, 19])\n",
        "# Write a one-liner to find the index of the maximum value.\n",
        "# ________________________________________\n",
        "arr = np.array([10, 25, 39, 50, 19])\n",
        "print(arr.argmax())"
      ],
      "metadata": {
        "colab": {
          "base_uri": "https://localhost:8080/"
        },
        "id": "3kyyIr-irQIU",
        "outputId": "c944346f-f6a0-4679-d43d-840f6ac6da26"
      },
      "execution_count": 9,
      "outputs": [
        {
          "output_type": "stream",
          "name": "stdout",
          "text": [
            "3\n"
          ]
        }
      ]
    },
    {
      "cell_type": "markdown",
      "source": [],
      "metadata": {
        "id": "gC-KMvIpao9Y"
      }
    }
  ]
}